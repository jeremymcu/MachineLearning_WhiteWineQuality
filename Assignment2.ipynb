{
 "cells": [
  {
   "cell_type": "markdown",
   "source": [
    "# Wine Quality Prediction"
   ],
   "metadata": {
    "collapsed": false
   }
  },
  {
   "cell_type": "markdown",
   "source": [
    "# Part 1: Import libraries"
   ],
   "metadata": {
    "collapsed": false
   }
  },
  {
   "cell_type": "code",
   "execution_count": 1,
   "metadata": {
    "collapsed": true
   },
   "outputs": [
    {
     "name": "stdout",
     "output_type": "stream",
     "text": [
      "Requirement already satisfied: streamlit in c:\\users\\jerem\\appdata\\local\\programs\\python\\python310\\lib\\site-packages (1.28.2)\n",
      "Requirement already satisfied: protobuf<5,>=3.20 in c:\\users\\jerem\\appdata\\local\\programs\\python\\python310\\lib\\site-packages (from streamlit) (4.25.1)\n",
      "Requirement already satisfied: tzlocal<6,>=1.1 in c:\\users\\jerem\\appdata\\local\\programs\\python\\python310\\lib\\site-packages (from streamlit) (5.2)\n",
      "Requirement already satisfied: pillow<11,>=7.1.0 in c:\\users\\jerem\\appdata\\local\\programs\\python\\python310\\lib\\site-packages (from streamlit) (9.1.0)\n",
      "Requirement already satisfied: packaging<24,>=16.8 in c:\\users\\jerem\\appdata\\local\\programs\\python\\python310\\lib\\site-packages (from streamlit) (21.3)\n",
      "Requirement already satisfied: python-dateutil<3,>=2.7.3 in c:\\users\\jerem\\appdata\\local\\programs\\python\\python310\\lib\\site-packages (from streamlit) (2.8.2)\n",
      "Requirement already satisfied: pyarrow>=6.0 in c:\\users\\jerem\\appdata\\local\\programs\\python\\python310\\lib\\site-packages (from streamlit) (14.0.1)\n",
      "Requirement already satisfied: validators<1,>=0.2 in c:\\users\\jerem\\appdata\\local\\programs\\python\\python310\\lib\\site-packages (from streamlit) (0.22.0)\n",
      "Requirement already satisfied: requests<3,>=2.27 in c:\\users\\jerem\\appdata\\local\\programs\\python\\python310\\lib\\site-packages (from streamlit) (2.28.1)\n",
      "Requirement already satisfied: tornado<7,>=6.0.3 in c:\\users\\jerem\\appdata\\local\\programs\\python\\python310\\lib\\site-packages (from streamlit) (6.1)\n",
      "Requirement already satisfied: numpy<2,>=1.19.3 in c:\\users\\jerem\\appdata\\local\\programs\\python\\python310\\lib\\site-packages (from streamlit) (1.22.3)\n",
      "Requirement already satisfied: pydeck<1,>=0.8.0b4 in c:\\users\\jerem\\appdata\\local\\programs\\python\\python310\\lib\\site-packages (from streamlit) (0.8.1b0)\n",
      "Requirement already satisfied: altair<6,>=4.0 in c:\\users\\jerem\\appdata\\local\\programs\\python\\python310\\lib\\site-packages (from streamlit) (5.2.0)\n",
      "Requirement already satisfied: typing-extensions<5,>=4.3.0 in c:\\users\\jerem\\appdata\\local\\programs\\python\\python310\\lib\\site-packages (from streamlit) (4.8.0)\n",
      "Requirement already satisfied: blinker<2,>=1.0.0 in c:\\users\\jerem\\appdata\\local\\programs\\python\\python310\\lib\\site-packages (from streamlit) (1.7.0)\n",
      "Requirement already satisfied: importlib-metadata<7,>=1.4 in c:\\users\\jerem\\appdata\\local\\programs\\python\\python310\\lib\\site-packages (from streamlit) (6.8.0)\n",
      "Requirement already satisfied: rich<14,>=10.14.0 in c:\\users\\jerem\\appdata\\local\\programs\\python\\python310\\lib\\site-packages (from streamlit) (13.7.0)\n",
      "Requirement already satisfied: cachetools<6,>=4.0 in c:\\users\\jerem\\appdata\\local\\programs\\python\\python310\\lib\\site-packages (from streamlit) (5.3.2)\n",
      "Requirement already satisfied: watchdog>=2.1.5 in c:\\users\\jerem\\appdata\\local\\programs\\python\\python310\\lib\\site-packages (from streamlit) (3.0.0)\n",
      "Requirement already satisfied: pandas<3,>=1.3.0 in c:\\users\\jerem\\appdata\\local\\programs\\python\\python310\\lib\\site-packages (from streamlit) (1.5.2)\n",
      "Requirement already satisfied: click<9,>=7.0 in c:\\users\\jerem\\appdata\\local\\programs\\python\\python310\\lib\\site-packages (from streamlit) (8.1.3)\n",
      "Requirement already satisfied: toml<2,>=0.10.1 in c:\\users\\jerem\\appdata\\local\\programs\\python\\python310\\lib\\site-packages (from streamlit) (0.10.2)\n",
      "Requirement already satisfied: tenacity<9,>=8.1.0 in c:\\users\\jerem\\appdata\\local\\programs\\python\\python310\\lib\\site-packages (from streamlit) (8.2.3)\n",
      "Requirement already satisfied: gitpython!=3.1.19,<4,>=3.0.7 in c:\\users\\jerem\\appdata\\local\\programs\\python\\python310\\lib\\site-packages (from streamlit) (3.1.40)\n",
      "Requirement already satisfied: jinja2 in c:\\users\\jerem\\appdata\\local\\programs\\python\\python310\\lib\\site-packages (from altair<6,>=4.0->streamlit) (3.1.2)\n",
      "Requirement already satisfied: toolz in c:\\users\\jerem\\appdata\\local\\programs\\python\\python310\\lib\\site-packages (from altair<6,>=4.0->streamlit) (0.12.0)\n",
      "Requirement already satisfied: jsonschema>=3.0 in c:\\users\\jerem\\appdata\\local\\programs\\python\\python310\\lib\\site-packages (from altair<6,>=4.0->streamlit) (4.5.1)\n",
      "Requirement already satisfied: colorama in c:\\users\\jerem\\appdata\\local\\programs\\python\\python310\\lib\\site-packages (from click<9,>=7.0->streamlit) (0.4.4)\n",
      "Requirement already satisfied: gitdb<5,>=4.0.1 in c:\\users\\jerem\\appdata\\local\\programs\\python\\python310\\lib\\site-packages (from gitpython!=3.1.19,<4,>=3.0.7->streamlit) (4.0.11)\n",
      "Requirement already satisfied: zipp>=0.5 in c:\\users\\jerem\\appdata\\local\\programs\\python\\python310\\lib\\site-packages (from importlib-metadata<7,>=1.4->streamlit) (3.17.0)\n",
      "Requirement already satisfied: pyparsing!=3.0.5,>=2.0.2 in c:\\users\\jerem\\appdata\\local\\programs\\python\\python310\\lib\\site-packages (from packaging<24,>=16.8->streamlit) (3.0.9)\n",
      "Requirement already satisfied: pytz>=2020.1 in c:\\users\\jerem\\appdata\\local\\programs\\python\\python310\\lib\\site-packages (from pandas<3,>=1.3.0->streamlit) (2022.1)\n",
      "Requirement already satisfied: six>=1.5 in c:\\users\\jerem\\appdata\\local\\programs\\python\\python310\\lib\\site-packages (from python-dateutil<3,>=2.7.3->streamlit) (1.16.0)\n",
      "Requirement already satisfied: urllib3<1.27,>=1.21.1 in c:\\users\\jerem\\appdata\\local\\programs\\python\\python310\\lib\\site-packages (from requests<3,>=2.27->streamlit) (1.26.12)\n",
      "Requirement already satisfied: certifi>=2017.4.17 in c:\\users\\jerem\\appdata\\local\\programs\\python\\python310\\lib\\site-packages (from requests<3,>=2.27->streamlit) (2022.9.24)\n",
      "Requirement already satisfied: charset-normalizer<3,>=2 in c:\\users\\jerem\\appdata\\local\\programs\\python\\python310\\lib\\site-packages (from requests<3,>=2.27->streamlit) (2.1.1)\n",
      "Requirement already satisfied: idna<4,>=2.5 in c:\\users\\jerem\\appdata\\local\\programs\\python\\python310\\lib\\site-packages (from requests<3,>=2.27->streamlit) (3.4)\n",
      "Requirement already satisfied: markdown-it-py>=2.2.0 in c:\\users\\jerem\\appdata\\local\\programs\\python\\python310\\lib\\site-packages (from rich<14,>=10.14.0->streamlit) (3.0.0)\n",
      "Requirement already satisfied: pygments<3.0.0,>=2.13.0 in c:\\users\\jerem\\appdata\\local\\programs\\python\\python310\\lib\\site-packages (from rich<14,>=10.14.0->streamlit) (2.17.2)\n",
      "Requirement already satisfied: tzdata in c:\\users\\jerem\\appdata\\local\\programs\\python\\python310\\lib\\site-packages (from tzlocal<6,>=1.1->streamlit) (2023.3)\n",
      "Requirement already satisfied: smmap<6,>=3.0.1 in c:\\users\\jerem\\appdata\\local\\programs\\python\\python310\\lib\\site-packages (from gitdb<5,>=4.0.1->gitpython!=3.1.19,<4,>=3.0.7->streamlit) (5.0.1)\n",
      "Requirement already satisfied: MarkupSafe>=2.0 in c:\\users\\jerem\\appdata\\local\\programs\\python\\python310\\lib\\site-packages (from jinja2->altair<6,>=4.0->streamlit) (2.1.1)\n",
      "Requirement already satisfied: attrs>=17.4.0 in c:\\users\\jerem\\appdata\\local\\programs\\python\\python310\\lib\\site-packages (from jsonschema>=3.0->altair<6,>=4.0->streamlit) (21.4.0)\n",
      "Requirement already satisfied: pyrsistent!=0.17.0,!=0.17.1,!=0.17.2,>=0.14.0 in c:\\users\\jerem\\appdata\\local\\programs\\python\\python310\\lib\\site-packages (from jsonschema>=3.0->altair<6,>=4.0->streamlit) (0.18.1)\n",
      "Requirement already satisfied: mdurl~=0.1 in c:\\users\\jerem\\appdata\\local\\programs\\python\\python310\\lib\\site-packages (from markdown-it-py>=2.2.0->rich<14,>=10.14.0->streamlit) (0.1.2)\n"
     ]
    },
    {
     "name": "stderr",
     "output_type": "stream",
     "text": [
      "\n",
      "[notice] A new release of pip available: 22.3.1 -> 23.3.1\n",
      "[notice] To update, run: C:\\Users\\jerem\\AppData\\Local\\Programs\\Python\\Python310\\python.exe -m pip install --upgrade pip\n"
     ]
    },
    {
     "name": "stdout",
     "output_type": "stream",
     "text": [
      "Requirement already satisfied: scikit-learn in c:\\users\\jerem\\appdata\\local\\programs\\python\\python310\\lib\\site-packages (1.3.2)\n",
      "Requirement already satisfied: numpy<2.0,>=1.17.3 in c:\\users\\jerem\\appdata\\local\\programs\\python\\python310\\lib\\site-packages (from scikit-learn) (1.22.3)\n",
      "Requirement already satisfied: scipy>=1.5.0 in c:\\users\\jerem\\appdata\\local\\programs\\python\\python310\\lib\\site-packages (from scikit-learn) (1.8.1)\n",
      "Requirement already satisfied: joblib>=1.1.1 in c:\\users\\jerem\\appdata\\local\\programs\\python\\python310\\lib\\site-packages (from scikit-learn) (1.3.2)\n",
      "Requirement already satisfied: threadpoolctl>=2.0.0 in c:\\users\\jerem\\appdata\\local\\programs\\python\\python310\\lib\\site-packages (from scikit-learn) (3.2.0)\n"
     ]
    },
    {
     "name": "stderr",
     "output_type": "stream",
     "text": [
      "\n",
      "[notice] A new release of pip available: 22.3.1 -> 23.3.1\n",
      "[notice] To update, run: C:\\Users\\jerem\\AppData\\Local\\Programs\\Python\\Python310\\python.exe -m pip install --upgrade pip\n"
     ]
    }
   ],
   "source": [
    "# 10890402\n",
    "# Jeremy (蕭智強)\n",
    "\n",
    "import pandas as pd\n",
    "import numpy as np\n",
    "import matplotlib.pyplot as plt\n",
    "import seaborn as sns\n",
    "import joblib\n",
    "import streamlit as st\n",
    "\n",
    "from sklearn.metrics import classification_report\n",
    "from sklearn.metrics import matthews_corrcoef\n",
    "from sklearn.metrics import confusion_matrix\n",
    "from sklearn.model_selection import train_test_split\n",
    "from sklearn.neighbors import KNeighborsClassifier\n",
    "from sklearn.naive_bayes import GaussianNB\n",
    "from sklearn import svm\n",
    "from sklearn import tree\n",
    "\n",
    "pd.set_option('display.max_columns', 100)"
   ]
  },
  {
   "cell_type": "markdown",
   "source": [
    "## Part 2: Load data into a dataframe and do some basic data exploration"
   ],
   "metadata": {
    "collapsed": false
   }
  },
  {
   "cell_type": "code",
   "execution_count": 2,
   "outputs": [
    {
     "name": "stdout",
     "output_type": "stream",
     "text": [
      "Part 2: Load data into a dataframe and do some basic data exploration\n",
      "2.1. Load data into a dataframe and print the first 5 rows\n",
      "   fixed acidity  volatile acidity  citric acid  residual sugar  chlorides  \\\n",
      "0            7.0              0.27         0.36            20.7      0.045   \n",
      "1            6.3              0.30         0.34             1.6      0.049   \n",
      "2            8.1              0.28         0.40             6.9      0.050   \n",
      "3            7.2              0.23         0.32             8.5      0.058   \n",
      "4            7.2              0.23         0.32             8.5      0.058   \n",
      "\n",
      "   free sulfur dioxide  total sulfur dioxide  density    pH  sulphates  \\\n",
      "0                 45.0                 170.0   1.0010  3.00       0.45   \n",
      "1                 14.0                 132.0   0.9940  3.30       0.49   \n",
      "2                 30.0                  97.0   0.9951  3.26       0.44   \n",
      "3                 47.0                 186.0   0.9956  3.19       0.40   \n",
      "4                 47.0                 186.0   0.9956  3.19       0.40   \n",
      "\n",
      "   alcohol  quality  \n",
      "0      8.8        6  \n",
      "1      9.5        6  \n",
      "2     10.1        6  \n",
      "3      9.9        6  \n",
      "4      9.9        6  \n",
      "----------------------------------------------------------------------------------------------------\n",
      "2.2. Check the data types of the columns\n",
      "fixed acidity           float64\n",
      "volatile acidity        float64\n",
      "citric acid             float64\n",
      "residual sugar          float64\n",
      "chlorides               float64\n",
      "free sulfur dioxide     float64\n",
      "total sulfur dioxide    float64\n",
      "density                 float64\n",
      "pH                      float64\n",
      "sulphates               float64\n",
      "alcohol                 float64\n",
      "quality                   int64\n",
      "dtype: object\n",
      "----------------------------------------------------------------------------------------------------\n",
      "2.3. Check the number of rows and columns in the dataframe\n",
      "(4898, 12)\n",
      "----------------------------------------------------------------------------------------------------\n",
      "2.4. Check the descriptive statistics of the dataframe\n",
      "       fixed acidity  volatile acidity  citric acid  residual sugar  \\\n",
      "count    4898.000000       4898.000000  4898.000000     4898.000000   \n",
      "mean        6.854788          0.278241     0.334192        6.391415   \n",
      "std         0.843868          0.100795     0.121020        5.072058   \n",
      "min         3.800000          0.080000     0.000000        0.600000   \n",
      "25%         6.300000          0.210000     0.270000        1.700000   \n",
      "50%         6.800000          0.260000     0.320000        5.200000   \n",
      "75%         7.300000          0.320000     0.390000        9.900000   \n",
      "max        14.200000          1.100000     1.660000       65.800000   \n",
      "\n",
      "         chlorides  free sulfur dioxide  total sulfur dioxide      density  \\\n",
      "count  4898.000000          4898.000000           4898.000000  4898.000000   \n",
      "mean      0.045772            35.308085            138.360657     0.994027   \n",
      "std       0.021848            17.007137             42.498065     0.002991   \n",
      "min       0.009000             2.000000              9.000000     0.987110   \n",
      "25%       0.036000            23.000000            108.000000     0.991723   \n",
      "50%       0.043000            34.000000            134.000000     0.993740   \n",
      "75%       0.050000            46.000000            167.000000     0.996100   \n",
      "max       0.346000           289.000000            440.000000     1.038980   \n",
      "\n",
      "                pH    sulphates      alcohol      quality  \n",
      "count  4898.000000  4898.000000  4898.000000  4898.000000  \n",
      "mean      3.188267     0.489847    10.514267     5.877909  \n",
      "std       0.151001     0.114126     1.230621     0.885639  \n",
      "min       2.720000     0.220000     8.000000     3.000000  \n",
      "25%       3.090000     0.410000     9.500000     5.000000  \n",
      "50%       3.180000     0.470000    10.400000     6.000000  \n",
      "75%       3.280000     0.550000    11.400000     6.000000  \n",
      "max       3.820000     1.080000    14.200000     9.000000  \n",
      "----------------------------------------------------------------------------------------------------\n"
     ]
    }
   ],
   "source": [
    "print('Part 2: Load data into a dataframe and do some basic data exploration')\n",
    "# 2.1. Load data into a dataframe and print the first 5 rows\n",
    "print('2.1. Load data into a dataframe and print the first 5 rows')\n",
    "df = pd.read_csv('winequality-white.csv', sep=';')\n",
    "print(df.head(5))\n",
    "print(\"-\" * 100)\n",
    "\n",
    "# 2.2. Check the data types of the columns\n",
    "print('2.2. Check the data types of the columns')\n",
    "print(df.dtypes)\n",
    "print(\"-\" * 100)\n",
    "\n",
    "# 2.3. Check the number of rows and columns in the dataframe\n",
    "print('2.3. Check the number of rows and columns in the dataframe')\n",
    "print(df.shape)\n",
    "print(\"-\" * 100)\n",
    "\n",
    "# 2.4. Check the descriptive statistics of the dataframe\n",
    "print('2.4. Check the descriptive statistics of the dataframe')\n",
    "print(df.describe())\n",
    "print(\"-\" * 100)"
   ],
   "metadata": {
    "collapsed": false
   }
  },
  {
   "cell_type": "markdown",
   "source": [
    "## Part 3: Exploratory Data Analysis (EDA) of the data"
   ],
   "metadata": {
    "collapsed": false
   }
  },
  {
   "cell_type": "markdown",
   "source": [
    "### 3.1. Bar charts"
   ],
   "metadata": {
    "collapsed": false
   }
  },
  {
   "cell_type": "code",
   "execution_count": 3,
   "outputs": [
    {
     "data": {
      "text/plain": "<Figure size 432x288 with 1 Axes>",
      "image/png": "[encoded data removed]"
     },
     "metadata": {
      "needs_background": "light"
     },
     "output_type": "display_data"
    }
   ],
   "source": [
    "plt.bar(df['pH'], df['quality'])\n",
    "plt.xlabel('pH')\n",
    "plt.ylabel('quality')\n",
    "plt.title('pH to Quality of Wine')\n",
    "plt.tight_layout()\n",
    "plt.show()"
   ],
   "metadata": {
    "collapsed": false
   }
  },
  {
   "cell_type": "markdown",
   "source": [
    "### 3.2. Histograms"
   ],
   "metadata": {
    "collapsed": false
   }
  },
  {
   "cell_type": "code",
   "execution_count": 4,
   "outputs": [
    {
     "data": {
      "text/plain": "<Figure size 360x360 with 1 Axes>",
      "image/png": "[encoded data removed]"
     },
     "metadata": {
      "needs_background": "light"
     },
     "output_type": "display_data"
    }
   ],
   "source": [
    "sns.displot(df['quality'])\n",
    "plt.title(\"Distribution of wine quality\")\n",
    "plt.tight_layout()\n",
    "plt.show()"
   ],
   "metadata": {
    "collapsed": false
   }
  },
  {
   "cell_type": "markdown",
   "source": [
    "### 3.3. Box plots"
   ],
   "metadata": {
    "collapsed": false
   }
  },
  {
   "cell_type": "code",
   "execution_count": 5,
   "outputs": [
    {
     "data": {
      "text/plain": "<Figure size 432x288 with 1 Axes>",
      "image/png": "[encoded data removed]"
     },
     "metadata": {
      "needs_background": "light"
     },
     "output_type": "display_data"
    }
   ],
   "source": [
    "sns.boxplot(data=df.drop(columns=['quality']))\n",
    "plt.xlabel('Features')\n",
    "plt.ylabel('Values')\n",
    "plt.title('IQR (interquartile range) of features and class attributes')\n",
    "plt.xticks(rotation=45, ha='right')\n",
    "plt.tight_layout()\n",
    "plt.show()"
   ],
   "metadata": {
    "collapsed": false
   }
  },
  {
   "cell_type": "markdown",
   "source": [
    "### 3.4. Scatter plots"
   ],
   "metadata": {
    "collapsed": false
   }
  },
  {
   "cell_type": "markdown",
   "source": [
    "#### 3.4.1. Scatter plot of alcohol vs. quality"
   ],
   "metadata": {
    "collapsed": false
   }
  },
  {
   "cell_type": "code",
   "execution_count": 6,
   "outputs": [
    {
     "data": {
      "text/plain": "<Figure size 432x288 with 1 Axes>",
      "image/png": "[encoded data removed]"
     },
     "metadata": {
      "needs_background": "light"
     },
     "output_type": "display_data"
    }
   ],
   "source": [
    "plt.scatter(df['alcohol'], df['quality'])\n",
    "plt.xlabel('alcohol')\n",
    "plt.ylabel('quality')\n",
    "plt.title('alcohol to Quality of Wine')\n",
    "plt.tight_layout()\n",
    "plt.show()"
   ],
   "metadata": {
    "collapsed": false
   }
  },
  {
   "cell_type": "markdown",
   "source": [
    "#### 3.4.2. Scatter plot of density vs. quality"
   ],
   "metadata": {
    "collapsed": false
   }
  },
  {
   "cell_type": "code",
   "execution_count": 7,
   "outputs": [
    {
     "data": {
      "text/plain": "<Figure size 432x288 with 1 Axes>",
      "image/png": "[encoded data removed]"
     },
     "metadata": {
      "needs_background": "light"
     },
     "output_type": "display_data"
    }
   ],
   "source": [
    "plt.scatter(df['density'], df['quality'])\n",
    "plt.xlabel('density')\n",
    "plt.ylabel('quality')\n",
    "plt.title('density to Quality of Wine')\n",
    "plt.tight_layout()\n",
    "plt.show()"
   ],
   "metadata": {
    "collapsed": false
   }
  },
  {
   "cell_type": "markdown",
   "source": [
    "#### 3.4.3. Scatter plot of pH vs. quality"
   ],
   "metadata": {
    "collapsed": false
   }
  },
  {
   "cell_type": "code",
   "execution_count": 8,
   "outputs": [
    {
     "data": {
      "text/plain": "<Figure size 432x288 with 1 Axes>",
      "image/png": "[encoded data removed]"
     },
     "metadata": {
      "needs_background": "light"
     },
     "output_type": "display_data"
    }
   ],
   "source": [
    "plt.scatter(df['pH'], df['quality'])\n",
    "plt.xlabel('pH')\n",
    "plt.ylabel('quality')\n",
    "plt.title('pH to Quality of Wine')\n",
    "plt.tight_layout()\n",
    "plt.show()"
   ],
   "metadata": {
    "collapsed": false
   }
  },
  {
   "cell_type": "markdown",
   "source": [
    "#### 3.4.4. Scatter plot of fixed acidity vs. quality"
   ],
   "metadata": {
    "collapsed": false
   }
  },
  {
   "cell_type": "code",
   "execution_count": 9,
   "outputs": [
    {
     "data": {
      "text/plain": "<Figure size 432x288 with 1 Axes>",
      "image/png": "[encoded data removed]"
     },
     "metadata": {
      "needs_background": "light"
     },
     "output_type": "display_data"
    }
   ],
   "source": [
    "plt.scatter(df['fixed acidity'], df['quality'])\n",
    "plt.xlabel('fixed acidity')\n",
    "plt.ylabel('quality')\n",
    "plt.title('fixed acidity to Quality of Wine')\n",
    "plt.tight_layout()\n",
    "plt.show()"
   ],
   "metadata": {
    "collapsed": false
   }
  },
  {
   "cell_type": "markdown",
   "source": [
    "### 3.5. Correlation matrix"
   ],
   "metadata": {
    "collapsed": false
   }
  },
  {
   "cell_type": "code",
   "execution_count": 10,
   "outputs": [
    {
     "name": "stdout",
     "output_type": "stream",
     "text": [
      "3.5. Correlation matrix\n",
      "                      fixed acidity  volatile acidity  citric acid  \\\n",
      "fixed acidity              1.000000         -0.022697     0.289181   \n",
      "volatile acidity          -0.022697          1.000000    -0.149472   \n",
      "citric acid                0.289181         -0.149472     1.000000   \n",
      "residual sugar             0.089021          0.064286     0.094212   \n",
      "chlorides                  0.023086          0.070512     0.114364   \n",
      "free sulfur dioxide       -0.049396         -0.097012     0.094077   \n",
      "total sulfur dioxide       0.091070          0.089261     0.121131   \n",
      "density                    0.265331          0.027114     0.149503   \n",
      "pH                        -0.425858         -0.031915    -0.163748   \n",
      "sulphates                 -0.017143         -0.035728     0.062331   \n",
      "alcohol                   -0.120881          0.067718    -0.075729   \n",
      "quality                   -0.113663         -0.194723    -0.009209   \n",
      "\n",
      "                      residual sugar  chlorides  free sulfur dioxide  \\\n",
      "fixed acidity               0.089021   0.023086            -0.049396   \n",
      "volatile acidity            0.064286   0.070512            -0.097012   \n",
      "citric acid                 0.094212   0.114364             0.094077   \n",
      "residual sugar              1.000000   0.088685             0.299098   \n",
      "chlorides                   0.088685   1.000000             0.101392   \n",
      "free sulfur dioxide         0.299098   0.101392             1.000000   \n",
      "total sulfur dioxide        0.401439   0.198910             0.615501   \n",
      "density                     0.838966   0.257211             0.294210   \n",
      "pH                         -0.194133  -0.090439            -0.000618   \n",
      "sulphates                  -0.026664   0.016763             0.059217   \n",
      "alcohol                    -0.450631  -0.360189            -0.250104   \n",
      "quality                    -0.097577  -0.209934             0.008158   \n",
      "\n",
      "                      total sulfur dioxide   density        pH  sulphates  \\\n",
      "fixed acidity                     0.091070  0.265331 -0.425858  -0.017143   \n",
      "volatile acidity                  0.089261  0.027114 -0.031915  -0.035728   \n",
      "citric acid                       0.121131  0.149503 -0.163748   0.062331   \n",
      "residual sugar                    0.401439  0.838966 -0.194133  -0.026664   \n",
      "chlorides                         0.198910  0.257211 -0.090439   0.016763   \n",
      "free sulfur dioxide               0.615501  0.294210 -0.000618   0.059217   \n",
      "total sulfur dioxide              1.000000  0.529881  0.002321   0.134562   \n",
      "density                           0.529881  1.000000 -0.093591   0.074493   \n",
      "pH                                0.002321 -0.093591  1.000000   0.155951   \n",
      "sulphates                         0.134562  0.074493  0.155951   1.000000   \n",
      "alcohol                          -0.448892 -0.780138  0.121432  -0.017433   \n",
      "quality                          -0.174737 -0.307123  0.099427   0.053678   \n",
      "\n",
      "                       alcohol   quality  \n",
      "fixed acidity        -0.120881 -0.113663  \n",
      "volatile acidity      0.067718 -0.194723  \n",
      "citric acid          -0.075729 -0.009209  \n",
      "residual sugar       -0.450631 -0.097577  \n",
      "chlorides            -0.360189 -0.209934  \n",
      "free sulfur dioxide  -0.250104  0.008158  \n",
      "total sulfur dioxide -0.448892 -0.174737  \n",
      "density              -0.780138 -0.307123  \n",
      "pH                    0.121432  0.099427  \n",
      "sulphates            -0.017433  0.053678  \n",
      "alcohol               1.000000  0.435575  \n",
      "quality               0.435575  1.000000  \n"
     ]
    }
   ],
   "source": [
    "print('3.5. Correlation matrix')\n",
    "corr = df.corr()\n",
    "print(corr)"
   ],
   "metadata": {
    "collapsed": false
   }
  },
  {
   "cell_type": "markdown",
   "source": [
    "### 3.6. Heatmap"
   ],
   "metadata": {
    "collapsed": false
   }
  },
  {
   "cell_type": "code",
   "execution_count": 11,
   "outputs": [
    {
     "data": {
      "text/plain": "<Figure size 432x288 with 2 Axes>",
      "image/png": "[encoded data removed]"
     },
     "metadata": {
      "needs_background": "light"
     },
     "output_type": "display_data"
    }
   ],
   "source": [
    "sns.heatmap(corr, xticklabels=corr.columns, yticklabels=corr.columns)\n",
    "plt.tight_layout()\n",
    "plt.savefig(\"2.6. Heat Map.svg\")\n",
    "plt.show()"
   ],
   "metadata": {
    "collapsed": false
   }
  },
  {
   "cell_type": "markdown",
   "source": [
    "### 3.7. Clean the Dataset"
   ],
   "metadata": {
    "collapsed": false
   }
  },
  {
   "cell_type": "markdown",
   "source": [
    "#### 3.7.1. Remove unnecessary columns"
   ],
   "metadata": {
    "collapsed": false
   }
  },
  {
   "cell_type": "code",
   "execution_count": 29,
   "outputs": [],
   "source": [
    "df_cleaned = df.drop(columns=['fixed acidity', 'volatile acidity', 'citric acid', 'residual sugar', 'chlorides', 'free sulfur dioxide', 'total sulfur dioxide', 'density'])"
   ],
   "metadata": {
    "collapsed": false
   }
  },
  {
   "cell_type": "code",
   "execution_count": 30,
   "outputs": [
    {
     "data": {
      "text/plain": "        pH  sulphates  alcohol  quality\n0     3.00       0.45      8.8        6\n1     3.30       0.49      9.5        6\n2     3.26       0.44     10.1        6\n3     3.19       0.40      9.9        6\n4     3.19       0.40      9.9        6\n...    ...        ...      ...      ...\n4893  3.27       0.50     11.2        6\n4894  3.15       0.46      9.6        5\n4895  2.99       0.46      9.4        6\n4896  3.34       0.38     12.8        7\n4897  3.26       0.32     11.8        6\n\n[4898 rows x 4 columns]",
      "text/html": "<div>\n<style scoped>\n    .dataframe tbody tr th:only-of-type {\n        vertical-align: middle;\n    }\n\n    .dataframe tbody tr th {\n        vertical-align: top;\n    }\n\n    .dataframe thead th {\n        text-align: right;\n    }\n</style>\n<table border=\"1\" class=\"dataframe\">\n  <thead>\n    <tr style=\"text-align: right;\">\n      <th></th>\n      <th>pH</th>\n      <th>sulphates</th>\n      <th>alcohol</th>\n      <th>quality</th>\n    </tr>\n  </thead>\n  <tbody>\n    <tr>\n      <th>0</th>\n      <td>3.00</td>\n      <td>0.45</td>\n      <td>8.8</td>\n      <td>6</td>\n    </tr>\n    <tr>\n      <th>1</th>\n      <td>3.30</td>\n      <td>0.49</td>\n      <td>9.5</td>\n      <td>6</td>\n    </tr>\n    <tr>\n      <th>2</th>\n      <td>3.26</td>\n      <td>0.44</td>\n      <td>10.1</td>\n      <td>6</td>\n    </tr>\n    <tr>\n      <th>3</th>\n      <td>3.19</td>\n      <td>0.40</td>\n      <td>9.9</td>\n      <td>6</td>\n    </tr>\n    <tr>\n      <th>4</th>\n      <td>3.19</td>\n      <td>0.40</td>\n      <td>9.9</td>\n      <td>6</td>\n    </tr>\n    <tr>\n      <th>...</th>\n      <td>...</td>\n      <td>...</td>\n      <td>...</td>\n      <td>...</td>\n    </tr>\n    <tr>\n      <th>4893</th>\n      <td>3.27</td>\n      <td>0.50</td>\n      <td>11.2</td>\n      <td>6</td>\n    </tr>\n    <tr>\n      <th>4894</th>\n      <td>3.15</td>\n      <td>0.46</td>\n      <td>9.6</td>\n      <td>5</td>\n    </tr>\n    <tr>\n      <th>4895</th>\n      <td>2.99</td>\n      <td>0.46</td>\n      <td>9.4</td>\n      <td>6</td>\n    </tr>\n    <tr>\n      <th>4896</th>\n      <td>3.34</td>\n      <td>0.38</td>\n      <td>12.8</td>\n      <td>7</td>\n    </tr>\n    <tr>\n      <th>4897</th>\n      <td>3.26</td>\n      <td>0.32</td>\n      <td>11.8</td>\n      <td>6</td>\n    </tr>\n  </tbody>\n</table>\n<p>4898 rows × 4 columns</p>\n</div>"
     },
     "execution_count": 30,
     "metadata": {},
     "output_type": "execute_result"
    }
   ],
   "source": [
    "df_cleaned"
   ],
   "metadata": {
    "collapsed": false
   }
  },
  {
   "cell_type": "code",
   "execution_count": 31,
   "outputs": [
    {
     "data": {
      "text/plain": "<Figure size 432x288 with 2 Axes>",
      "image/png": "[encoded data removed]"
     },
     "metadata": {
      "needs_background": "light"
     },
     "output_type": "display_data"
    }
   ],
   "source": [
    "corr = df_cleaned.corr()\n",
    "sns.heatmap(corr, xticklabels=corr.columns, yticklabels=corr.columns)\n",
    "plt.tight_layout()\n",
    "plt.show()"
   ],
   "metadata": {
    "collapsed": false
   }
  },
  {
   "cell_type": "markdown",
   "source": [
    "## Part 4: Build and train the machine learning models"
   ],
   "metadata": {
    "collapsed": false
   }
  },
  {
   "cell_type": "markdown",
   "source": [
    "### 4.1. Split the data into training and testing sets"
   ],
   "metadata": {
    "collapsed": false
   }
  },
  {
   "cell_type": "code",
   "execution_count": 32,
   "outputs": [
    {
     "name": "stdout",
     "output_type": "stream",
     "text": [
      "x_train shape: (3918, 3)\n",
      "y_train shape: (3918,)\n",
      "x_test shape: (980, 3)\n",
      "y_test shape: (980,)\n"
     ]
    }
   ],
   "source": [
    "X_train, X_test, y_train, y_test = train_test_split(df_cleaned.drop(columns=['quality']), df_cleaned['quality'], test_size=0.2, random_state=8)\n",
    "print(\"x_train shape:\", X_train.shape) # (3918, 11)\n",
    "print(\"y_train shape:\", y_train.shape) # (3918,)\n",
    "print(\"x_test shape:\", X_test.shape) # (980, 11)\n",
    "print(\"y_test shape:\", y_test.shape) # (980,)"
   ],
   "metadata": {
    "collapsed": false
   }
  },
  {
   "cell_type": "markdown",
   "source": [
    "### 4.2. Build and train KNN, Naive Bayes, SVM and Decision Tree models"
   ],
   "metadata": {
    "collapsed": false
   }
  },
  {
   "cell_type": "markdown",
   "source": [
    "#### 4.2.1. KNN"
   ],
   "metadata": {
    "collapsed": false
   }
  },
  {
   "cell_type": "code",
   "execution_count": 33,
   "outputs": [
    {
     "data": {
      "text/plain": "KNeighborsClassifier()",
      "text/html": "<style>#sk-container-id-5 {color: black;}#sk-container-id-5 pre{padding: 0;}#sk-container-id-5 div.sk-toggleable {background-color: white;}#sk-container-id-5 label.sk-toggleable__label {cursor: pointer;display: block;width: 100%;margin-bottom: 0;padding: 0.3em;box-sizing: border-box;text-align: center;}#sk-container-id-5 label.sk-toggleable__label-arrow:before {content: \"▸\";float: left;margin-right: 0.25em;color: #696969;}#sk-container-id-5 label.sk-toggleable__label-arrow:hover:before {color: black;}#sk-container-id-5 div.sk-estimator:hover label.sk-toggleable__label-arrow:before {color: black;}#sk-container-id-5 div.sk-toggleable__content {max-height: 0;max-width: 0;overflow: hidden;text-align: left;background-color: #f0f8ff;}#sk-container-id-5 div.sk-toggleable__content pre {margin: 0.2em;color: black;border-radius: 0.25em;background-color: #f0f8ff;}#sk-container-id-5 input.sk-toggleable__control:checked~div.sk-toggleable__content {max-height: 200px;max-width: 100%;overflow: auto;}#sk-container-id-5 input.sk-toggleable__control:checked~label.sk-toggleable__label-arrow:before {content: \"▾\";}#sk-container-id-5 div.sk-estimator input.sk-toggleable__control:checked~label.sk-toggleable__label {background-color: #d4ebff;}#sk-container-id-5 div.sk-label input.sk-toggleable__control:checked~label.sk-toggleable__label {background-color: #d4ebff;}#sk-container-id-5 input.sk-hidden--visually {border: 0;clip: rect(1px 1px 1px 1px);clip: rect(1px, 1px, 1px, 1px);height: 1px;margin: -1px;overflow: hidden;padding: 0;position: absolute;width: 1px;}#sk-container-id-5 div.sk-estimator {font-family: monospace;background-color: #f0f8ff;border: 1px dotted black;border-radius: 0.25em;box-sizing: border-box;margin-bottom: 0.5em;}#sk-container-id-5 div.sk-estimator:hover {background-color: #d4ebff;}#sk-container-id-5 div.sk-parallel-item::after {content: \"\";width: 100%;border-bottom: 1px solid gray;flex-grow: 1;}#sk-container-id-5 div.sk-label:hover label.sk-toggleable__label {background-color: #d4ebff;}#sk-container-id-5 div.sk-serial::before {content: \"\";position: absolute;border-left: 1px solid gray;box-sizing: border-box;top: 0;bottom: 0;left: 50%;z-index: 0;}#sk-container-id-5 div.sk-serial {display: flex;flex-direction: column;align-items: center;background-color: white;padding-right: 0.2em;padding-left: 0.2em;position: relative;}#sk-container-id-5 div.sk-item {position: relative;z-index: 1;}#sk-container-id-5 div.sk-parallel {display: flex;align-items: stretch;justify-content: center;background-color: white;position: relative;}#sk-container-id-5 div.sk-item::before, #sk-container-id-5 div.sk-parallel-item::before {content: \"\";position: absolute;border-left: 1px solid gray;box-sizing: border-box;top: 0;bottom: 0;left: 50%;z-index: -1;}#sk-container-id-5 div.sk-parallel-item {display: flex;flex-direction: column;z-index: 1;position: relative;background-color: white;}#sk-container-id-5 div.sk-parallel-item:first-child::after {align-self: flex-end;width: 50%;}#sk-container-id-5 div.sk-parallel-item:last-child::after {align-self: flex-start;width: 50%;}#sk-container-id-5 div.sk-parallel-item:only-child::after {width: 0;}#sk-container-id-5 div.sk-dashed-wrapped {border: 1px dashed gray;margin: 0 0.4em 0.5em 0.4em;box-sizing: border-box;padding-bottom: 0.4em;background-color: white;}#sk-container-id-5 div.sk-label label {font-family: monospace;font-weight: bold;display: inline-block;line-height: 1.2em;}#sk-container-id-5 div.sk-label-container {text-align: center;}#sk-container-id-5 div.sk-container {/* jupyter's `normalize.less` sets `[hidden] { display: none; }` but bootstrap.min.css set `[hidden] { display: none !important; }` so we also need the `!important` here to be able to override the default hidden behavior on the sphinx rendered scikit-learn.org. See: https://github.com/scikit-learn/scikit-learn/issues/21755 */display: inline-block !important;position: relative;}#sk-container-id-5 div.sk-text-repr-fallback {display: none;}</style><div id=\"sk-container-id-5\" class=\"sk-top-container\"><div class=\"sk-text-repr-fallback\"><pre>KNeighborsClassifier()</pre><b>In a Jupyter environment, please rerun this cell to show the HTML representation or trust the notebook. <br />On GitHub, the HTML representation is unable to render, please try loading this page with nbviewer.org.</b></div><div class=\"sk-container\" hidden><div class=\"sk-item\"><div class=\"sk-estimator sk-toggleable\"><input class=\"sk-toggleable__control sk-hidden--visually\" id=\"sk-estimator-id-5\" type=\"checkbox\" checked><label for=\"sk-estimator-id-5\" class=\"sk-toggleable__label sk-toggleable__label-arrow\">KNeighborsClassifier</label><div class=\"sk-toggleable__content\"><pre>KNeighborsClassifier()</pre></div></div></div></div></div>"
     },
     "execution_count": 33,
     "metadata": {},
     "output_type": "execute_result"
    }
   ],
   "source": [
    "knn = KNeighborsClassifier(n_neighbors=5)\n",
    "knn.fit(X_train, y_train)"
   ],
   "metadata": {
    "collapsed": false
   }
  },
  {
   "cell_type": "markdown",
   "source": [
    "#### 4.2.2. Naive Bayes"
   ],
   "metadata": {
    "collapsed": false
   }
  },
  {
   "cell_type": "code",
   "execution_count": 34,
   "outputs": [
    {
     "data": {
      "text/plain": "GaussianNB()",
      "text/html": "<style>#sk-container-id-6 {color: black;}#sk-container-id-6 pre{padding: 0;}#sk-container-id-6 div.sk-toggleable {background-color: white;}#sk-container-id-6 label.sk-toggleable__label {cursor: pointer;display: block;width: 100%;margin-bottom: 0;padding: 0.3em;box-sizing: border-box;text-align: center;}#sk-container-id-6 label.sk-toggleable__label-arrow:before {content: \"▸\";float: left;margin-right: 0.25em;color: #696969;}#sk-container-id-6 label.sk-toggleable__label-arrow:hover:before {color: black;}#sk-container-id-6 div.sk-estimator:hover label.sk-toggleable__label-arrow:before {color: black;}#sk-container-id-6 div.sk-toggleable__content {max-height: 0;max-width: 0;overflow: hidden;text-align: left;background-color: #f0f8ff;}#sk-container-id-6 div.sk-toggleable__content pre {margin: 0.2em;color: black;border-radius: 0.25em;background-color: #f0f8ff;}#sk-container-id-6 input.sk-toggleable__control:checked~div.sk-toggleable__content {max-height: 200px;max-width: 100%;overflow: auto;}#sk-container-id-6 input.sk-toggleable__control:checked~label.sk-toggleable__label-arrow:before {content: \"▾\";}#sk-container-id-6 div.sk-estimator input.sk-toggleable__control:checked~label.sk-toggleable__label {background-color: #d4ebff;}#sk-container-id-6 div.sk-label input.sk-toggleable__control:checked~label.sk-toggleable__label {background-color: #d4ebff;}#sk-container-id-6 input.sk-hidden--visually {border: 0;clip: rect(1px 1px 1px 1px);clip: rect(1px, 1px, 1px, 1px);height: 1px;margin: -1px;overflow: hidden;padding: 0;position: absolute;width: 1px;}#sk-container-id-6 div.sk-estimator {font-family: monospace;background-color: #f0f8ff;border: 1px dotted black;border-radius: 0.25em;box-sizing: border-box;margin-bottom: 0.5em;}#sk-container-id-6 div.sk-estimator:hover {background-color: #d4ebff;}#sk-container-id-6 div.sk-parallel-item::after {content: \"\";width: 100%;border-bottom: 1px solid gray;flex-grow: 1;}#sk-container-id-6 div.sk-label:hover label.sk-toggleable__label {background-color: #d4ebff;}#sk-container-id-6 div.sk-serial::before {content: \"\";position: absolute;border-left: 1px solid gray;box-sizing: border-box;top: 0;bottom: 0;left: 50%;z-index: 0;}#sk-container-id-6 div.sk-serial {display: flex;flex-direction: column;align-items: center;background-color: white;padding-right: 0.2em;padding-left: 0.2em;position: relative;}#sk-container-id-6 div.sk-item {position: relative;z-index: 1;}#sk-container-id-6 div.sk-parallel {display: flex;align-items: stretch;justify-content: center;background-color: white;position: relative;}#sk-container-id-6 div.sk-item::before, #sk-container-id-6 div.sk-parallel-item::before {content: \"\";position: absolute;border-left: 1px solid gray;box-sizing: border-box;top: 0;bottom: 0;left: 50%;z-index: -1;}#sk-container-id-6 div.sk-parallel-item {display: flex;flex-direction: column;z-index: 1;position: relative;background-color: white;}#sk-container-id-6 div.sk-parallel-item:first-child::after {align-self: flex-end;width: 50%;}#sk-container-id-6 div.sk-parallel-item:last-child::after {align-self: flex-start;width: 50%;}#sk-container-id-6 div.sk-parallel-item:only-child::after {width: 0;}#sk-container-id-6 div.sk-dashed-wrapped {border: 1px dashed gray;margin: 0 0.4em 0.5em 0.4em;box-sizing: border-box;padding-bottom: 0.4em;background-color: white;}#sk-container-id-6 div.sk-label label {font-family: monospace;font-weight: bold;display: inline-block;line-height: 1.2em;}#sk-container-id-6 div.sk-label-container {text-align: center;}#sk-container-id-6 div.sk-container {/* jupyter's `normalize.less` sets `[hidden] { display: none; }` but bootstrap.min.css set `[hidden] { display: none !important; }` so we also need the `!important` here to be able to override the default hidden behavior on the sphinx rendered scikit-learn.org. See: https://github.com/scikit-learn/scikit-learn/issues/21755 */display: inline-block !important;position: relative;}#sk-container-id-6 div.sk-text-repr-fallback {display: none;}</style><div id=\"sk-container-id-6\" class=\"sk-top-container\"><div class=\"sk-text-repr-fallback\"><pre>GaussianNB()</pre><b>In a Jupyter environment, please rerun this cell to show the HTML representation or trust the notebook. <br />On GitHub, the HTML representation is unable to render, please try loading this page with nbviewer.org.</b></div><div class=\"sk-container\" hidden><div class=\"sk-item\"><div class=\"sk-estimator sk-toggleable\"><input class=\"sk-toggleable__control sk-hidden--visually\" id=\"sk-estimator-id-6\" type=\"checkbox\" checked><label for=\"sk-estimator-id-6\" class=\"sk-toggleable__label sk-toggleable__label-arrow\">GaussianNB</label><div class=\"sk-toggleable__content\"><pre>GaussianNB()</pre></div></div></div></div></div>"
     },
     "execution_count": 34,
     "metadata": {},
     "output_type": "execute_result"
    }
   ],
   "source": [
    "nb = GaussianNB()\n",
    "nb.fit(X_train, y_train)"
   ],
   "metadata": {
    "collapsed": false
   }
  },
  {
   "cell_type": "markdown",
   "source": [
    "#### 4.2.3. SVM"
   ],
   "metadata": {
    "collapsed": false
   }
  },
  {
   "cell_type": "code",
   "execution_count": 42,
   "outputs": [
    {
     "ename": "AttributeError",
     "evalue": "'SVC' object has no attribute 'SVC'",
     "output_type": "error",
     "traceback": [
      "\u001B[1;31m---------------------------------------------------------------------------\u001B[0m",
      "\u001B[1;31mAttributeError\u001B[0m                            Traceback (most recent call last)",
      "Input \u001B[1;32mIn [42]\u001B[0m, in \u001B[0;36m<cell line: 1>\u001B[1;34m()\u001B[0m\n\u001B[1;32m----> 1\u001B[0m SVM \u001B[38;5;241m=\u001B[39m \u001B[43msvm\u001B[49m\u001B[38;5;241;43m.\u001B[39;49m\u001B[43mSVC\u001B[49m()\n\u001B[0;32m      2\u001B[0m SVM\u001B[38;5;241m.\u001B[39mfit(X_train, y_train)\n",
      "\u001B[1;31mAttributeError\u001B[0m: 'SVC' object has no attribute 'SVC'"
     ]
    }
   ],
   "source": [
    "SVM = svm.SVC()\n",
    "SVM.fit(X_train, y_train)"
   ],
   "metadata": {
    "collapsed": false
   }
  },
  {
   "cell_type": "markdown",
   "source": [
    "#### 4.2.4. Decision Tree"
   ],
   "metadata": {
    "collapsed": false
   }
  },
  {
   "cell_type": "code",
   "execution_count": 37,
   "outputs": [
    {
     "data": {
      "text/plain": "DecisionTreeClassifier()",
      "text/html": "<style>#sk-container-id-7 {color: black;}#sk-container-id-7 pre{padding: 0;}#sk-container-id-7 div.sk-toggleable {background-color: white;}#sk-container-id-7 label.sk-toggleable__label {cursor: pointer;display: block;width: 100%;margin-bottom: 0;padding: 0.3em;box-sizing: border-box;text-align: center;}#sk-container-id-7 label.sk-toggleable__label-arrow:before {content: \"▸\";float: left;margin-right: 0.25em;color: #696969;}#sk-container-id-7 label.sk-toggleable__label-arrow:hover:before {color: black;}#sk-container-id-7 div.sk-estimator:hover label.sk-toggleable__label-arrow:before {color: black;}#sk-container-id-7 div.sk-toggleable__content {max-height: 0;max-width: 0;overflow: hidden;text-align: left;background-color: #f0f8ff;}#sk-container-id-7 div.sk-toggleable__content pre {margin: 0.2em;color: black;border-radius: 0.25em;background-color: #f0f8ff;}#sk-container-id-7 input.sk-toggleable__control:checked~div.sk-toggleable__content {max-height: 200px;max-width: 100%;overflow: auto;}#sk-container-id-7 input.sk-toggleable__control:checked~label.sk-toggleable__label-arrow:before {content: \"▾\";}#sk-container-id-7 div.sk-estimator input.sk-toggleable__control:checked~label.sk-toggleable__label {background-color: #d4ebff;}#sk-container-id-7 div.sk-label input.sk-toggleable__control:checked~label.sk-toggleable__label {background-color: #d4ebff;}#sk-container-id-7 input.sk-hidden--visually {border: 0;clip: rect(1px 1px 1px 1px);clip: rect(1px, 1px, 1px, 1px);height: 1px;margin: -1px;overflow: hidden;padding: 0;position: absolute;width: 1px;}#sk-container-id-7 div.sk-estimator {font-family: monospace;background-color: #f0f8ff;border: 1px dotted black;border-radius: 0.25em;box-sizing: border-box;margin-bottom: 0.5em;}#sk-container-id-7 div.sk-estimator:hover {background-color: #d4ebff;}#sk-container-id-7 div.sk-parallel-item::after {content: \"\";width: 100%;border-bottom: 1px solid gray;flex-grow: 1;}#sk-container-id-7 div.sk-label:hover label.sk-toggleable__label {background-color: #d4ebff;}#sk-container-id-7 div.sk-serial::before {content: \"\";position: absolute;border-left: 1px solid gray;box-sizing: border-box;top: 0;bottom: 0;left: 50%;z-index: 0;}#sk-container-id-7 div.sk-serial {display: flex;flex-direction: column;align-items: center;background-color: white;padding-right: 0.2em;padding-left: 0.2em;position: relative;}#sk-container-id-7 div.sk-item {position: relative;z-index: 1;}#sk-container-id-7 div.sk-parallel {display: flex;align-items: stretch;justify-content: center;background-color: white;position: relative;}#sk-container-id-7 div.sk-item::before, #sk-container-id-7 div.sk-parallel-item::before {content: \"\";position: absolute;border-left: 1px solid gray;box-sizing: border-box;top: 0;bottom: 0;left: 50%;z-index: -1;}#sk-container-id-7 div.sk-parallel-item {display: flex;flex-direction: column;z-index: 1;position: relative;background-color: white;}#sk-container-id-7 div.sk-parallel-item:first-child::after {align-self: flex-end;width: 50%;}#sk-container-id-7 div.sk-parallel-item:last-child::after {align-self: flex-start;width: 50%;}#sk-container-id-7 div.sk-parallel-item:only-child::after {width: 0;}#sk-container-id-7 div.sk-dashed-wrapped {border: 1px dashed gray;margin: 0 0.4em 0.5em 0.4em;box-sizing: border-box;padding-bottom: 0.4em;background-color: white;}#sk-container-id-7 div.sk-label label {font-family: monospace;font-weight: bold;display: inline-block;line-height: 1.2em;}#sk-container-id-7 div.sk-label-container {text-align: center;}#sk-container-id-7 div.sk-container {/* jupyter's `normalize.less` sets `[hidden] { display: none; }` but bootstrap.min.css set `[hidden] { display: none !important; }` so we also need the `!important` here to be able to override the default hidden behavior on the sphinx rendered scikit-learn.org. See: https://github.com/scikit-learn/scikit-learn/issues/21755 */display: inline-block !important;position: relative;}#sk-container-id-7 div.sk-text-repr-fallback {display: none;}</style><div id=\"sk-container-id-7\" class=\"sk-top-container\"><div class=\"sk-text-repr-fallback\"><pre>DecisionTreeClassifier()</pre><b>In a Jupyter environment, please rerun this cell to show the HTML representation or trust the notebook. <br />On GitHub, the HTML representation is unable to render, please try loading this page with nbviewer.org.</b></div><div class=\"sk-container\" hidden><div class=\"sk-item\"><div class=\"sk-estimator sk-toggleable\"><input class=\"sk-toggleable__control sk-hidden--visually\" id=\"sk-estimator-id-7\" type=\"checkbox\" checked><label for=\"sk-estimator-id-7\" class=\"sk-toggleable__label sk-toggleable__label-arrow\">DecisionTreeClassifier</label><div class=\"sk-toggleable__content\"><pre>DecisionTreeClassifier()</pre></div></div></div></div></div>"
     },
     "execution_count": 37,
     "metadata": {},
     "output_type": "execute_result"
    }
   ],
   "source": [
    "dt = tree.DecisionTreeClassifier()\n",
    "dt.fit(X_train, y_train)"
   ],
   "metadata": {
    "collapsed": false
   }
  },
  {
   "cell_type": "markdown",
   "source": [
    "## Part 5: Evaluate the models"
   ],
   "metadata": {
    "collapsed": false
   }
  },
  {
   "cell_type": "markdown",
   "source": [
    "### 5.1. Evaluate the models using the test data"
   ],
   "metadata": {
    "collapsed": false
   }
  },
  {
   "cell_type": "markdown",
   "source": [
    "#### 5.1.1. KNN"
   ],
   "metadata": {
    "collapsed": false
   }
  },
  {
   "cell_type": "code",
   "execution_count": 38,
   "outputs": [
    {
     "name": "stdout",
     "output_type": "stream",
     "text": [
      "              precision    recall  f1-score   support\n",
      "\n",
      "           3       0.00      0.00      0.00         3\n",
      "           4       0.00      0.00      0.00        31\n",
      "           5       0.51      0.59      0.55       295\n",
      "           6       0.55      0.60      0.57       445\n",
      "           7       0.53      0.41      0.46       168\n",
      "           8       0.33      0.14      0.20        36\n",
      "           9       0.00      0.00      0.00         2\n",
      "\n",
      "    accuracy                           0.52       980\n",
      "   macro avg       0.28      0.25      0.25       980\n",
      "weighted avg       0.51      0.52      0.51       980\n",
      "\n",
      "MCC: 0.26731368021506585\n",
      "Confusion Matrix:\n",
      "[[  0   0   1   2   0   0   0]\n",
      " [  0   0  12  15   3   1   0]\n",
      " [  0   2 175 109   7   2   0]\n",
      " [  1   7 128 265  41   3   0]\n",
      " [  0   1  21  73  69   4   0]\n",
      " [  0   0   3  18  10   5   0]\n",
      " [  0   0   0   2   0   0   0]]\n"
     ]
    },
    {
     "name": "stderr",
     "output_type": "stream",
     "text": [
      "C:\\Users\\jerem\\AppData\\Local\\Programs\\Python\\Python310\\lib\\site-packages\\sklearn\\metrics\\_classification.py:1471: UndefinedMetricWarning: Precision and F-score are ill-defined and being set to 0.0 in labels with no predicted samples. Use `zero_division` parameter to control this behavior.\n",
      "  _warn_prf(average, modifier, msg_start, len(result))\n",
      "C:\\Users\\jerem\\AppData\\Local\\Programs\\Python\\Python310\\lib\\site-packages\\sklearn\\metrics\\_classification.py:1471: UndefinedMetricWarning: Precision and F-score are ill-defined and being set to 0.0 in labels with no predicted samples. Use `zero_division` parameter to control this behavior.\n",
      "  _warn_prf(average, modifier, msg_start, len(result))\n",
      "C:\\Users\\jerem\\AppData\\Local\\Programs\\Python\\Python310\\lib\\site-packages\\sklearn\\metrics\\_classification.py:1471: UndefinedMetricWarning: Precision and F-score are ill-defined and being set to 0.0 in labels with no predicted samples. Use `zero_division` parameter to control this behavior.\n",
      "  _warn_prf(average, modifier, msg_start, len(result))\n"
     ]
    }
   ],
   "source": [
    "knn_pred = knn.predict(X_test)\n",
    "print(classification_report(y_test, knn_pred))\n",
    "print(\"MCC:\", matthews_corrcoef(y_test, knn_pred))\n",
    "print(\"Confusion Matrix:\")\n",
    "print(confusion_matrix(y_test, knn_pred))"
   ],
   "metadata": {
    "collapsed": false
   }
  },
  {
   "cell_type": "markdown",
   "source": [
    "#### 5.1.2. Naive Bayes"
   ],
   "metadata": {
    "collapsed": false
   }
  },
  {
   "cell_type": "code",
   "execution_count": 39,
   "outputs": [
    {
     "name": "stdout",
     "output_type": "stream",
     "text": [
      "              precision    recall  f1-score   support\n",
      "\n",
      "           3       0.00      0.00      0.00         3\n",
      "           4       0.00      0.00      0.00        31\n",
      "           5       0.48      0.62      0.54       295\n",
      "           6       0.51      0.59      0.55       445\n",
      "           7       0.55      0.29      0.38       168\n",
      "           8       0.00      0.00      0.00        36\n",
      "           9       0.00      0.00      0.00         2\n",
      "\n",
      "    accuracy                           0.50       980\n",
      "   macro avg       0.22      0.21      0.21       980\n",
      "weighted avg       0.47      0.50      0.48       980\n",
      "\n",
      "MCC: 0.2162210748350883\n",
      "Confusion Matrix:\n",
      "[[  0   0   2   1   0   0   0]\n",
      " [  0   0  12  17   2   0   0]\n",
      " [  0   0 182 111   2   0   0]\n",
      " [  0   0 161 261  22   1   0]\n",
      " [  0   0  19  99  49   1   0]\n",
      " [  0   0   5  17  14   0   0]\n",
      " [  0   0   0   2   0   0   0]]\n"
     ]
    },
    {
     "name": "stderr",
     "output_type": "stream",
     "text": [
      "C:\\Users\\jerem\\AppData\\Local\\Programs\\Python\\Python310\\lib\\site-packages\\sklearn\\metrics\\_classification.py:1471: UndefinedMetricWarning: Precision and F-score are ill-defined and being set to 0.0 in labels with no predicted samples. Use `zero_division` parameter to control this behavior.\n",
      "  _warn_prf(average, modifier, msg_start, len(result))\n",
      "C:\\Users\\jerem\\AppData\\Local\\Programs\\Python\\Python310\\lib\\site-packages\\sklearn\\metrics\\_classification.py:1471: UndefinedMetricWarning: Precision and F-score are ill-defined and being set to 0.0 in labels with no predicted samples. Use `zero_division` parameter to control this behavior.\n",
      "  _warn_prf(average, modifier, msg_start, len(result))\n",
      "C:\\Users\\jerem\\AppData\\Local\\Programs\\Python\\Python310\\lib\\site-packages\\sklearn\\metrics\\_classification.py:1471: UndefinedMetricWarning: Precision and F-score are ill-defined and being set to 0.0 in labels with no predicted samples. Use `zero_division` parameter to control this behavior.\n",
      "  _warn_prf(average, modifier, msg_start, len(result))\n"
     ]
    }
   ],
   "source": [
    "nb_pred = nb.predict(X_test)\n",
    "print(classification_report(y_test, nb_pred))\n",
    "print(\"MCC:\", matthews_corrcoef(y_test, nb_pred))\n",
    "print(\"Confusion Matrix:\")\n",
    "print(confusion_matrix(y_test, nb_pred))"
   ],
   "metadata": {
    "collapsed": false
   }
  },
  {
   "cell_type": "markdown",
   "source": [
    "#### 5.1.3. SVM"
   ],
   "metadata": {
    "collapsed": false
   }
  },
  {
   "cell_type": "code",
   "execution_count": 40,
   "outputs": [
    {
     "ename": "ValueError",
     "evalue": "The feature names should match those that were passed during fit.\nFeature names seen at fit time, yet now missing:\n- chlorides\n- citric acid\n- density\n- fixed acidity\n- free sulfur dioxide\n- ...\n",
     "output_type": "error",
     "traceback": [
      "\u001B[1;31m---------------------------------------------------------------------------\u001B[0m",
      "\u001B[1;31mValueError\u001B[0m                                Traceback (most recent call last)",
      "Input \u001B[1;32mIn [40]\u001B[0m, in \u001B[0;36m<cell line: 1>\u001B[1;34m()\u001B[0m\n\u001B[1;32m----> 1\u001B[0m svm_pred \u001B[38;5;241m=\u001B[39m \u001B[43msvm\u001B[49m\u001B[38;5;241;43m.\u001B[39;49m\u001B[43mpredict\u001B[49m\u001B[43m(\u001B[49m\u001B[43mX_test\u001B[49m\u001B[43m)\u001B[49m\n\u001B[0;32m      2\u001B[0m \u001B[38;5;28mprint\u001B[39m(classification_report(y_test, svm_pred))\n\u001B[0;32m      3\u001B[0m \u001B[38;5;28mprint\u001B[39m(\u001B[38;5;124m\"\u001B[39m\u001B[38;5;124mMCC:\u001B[39m\u001B[38;5;124m\"\u001B[39m, matthews_corrcoef(y_test, svm_pred))\n",
      "File \u001B[1;32m~\\AppData\\Local\\Programs\\Python\\Python310\\lib\\site-packages\\sklearn\\svm\\_base.py:818\u001B[0m, in \u001B[0;36mBaseSVC.predict\u001B[1;34m(self, X)\u001B[0m\n\u001B[0;32m    816\u001B[0m     y \u001B[38;5;241m=\u001B[39m np\u001B[38;5;241m.\u001B[39margmax(\u001B[38;5;28mself\u001B[39m\u001B[38;5;241m.\u001B[39mdecision_function(X), axis\u001B[38;5;241m=\u001B[39m\u001B[38;5;241m1\u001B[39m)\n\u001B[0;32m    817\u001B[0m \u001B[38;5;28;01melse\u001B[39;00m:\n\u001B[1;32m--> 818\u001B[0m     y \u001B[38;5;241m=\u001B[39m \u001B[38;5;28;43msuper\u001B[39;49m\u001B[43m(\u001B[49m\u001B[43m)\u001B[49m\u001B[38;5;241;43m.\u001B[39;49m\u001B[43mpredict\u001B[49m\u001B[43m(\u001B[49m\u001B[43mX\u001B[49m\u001B[43m)\u001B[49m\n\u001B[0;32m    819\u001B[0m \u001B[38;5;28;01mreturn\u001B[39;00m \u001B[38;5;28mself\u001B[39m\u001B[38;5;241m.\u001B[39mclasses_\u001B[38;5;241m.\u001B[39mtake(np\u001B[38;5;241m.\u001B[39masarray(y, dtype\u001B[38;5;241m=\u001B[39mnp\u001B[38;5;241m.\u001B[39mintp))\n",
      "File \u001B[1;32m~\\AppData\\Local\\Programs\\Python\\Python310\\lib\\site-packages\\sklearn\\svm\\_base.py:431\u001B[0m, in \u001B[0;36mBaseLibSVM.predict\u001B[1;34m(self, X)\u001B[0m\n\u001B[0;32m    415\u001B[0m \u001B[38;5;28;01mdef\u001B[39;00m \u001B[38;5;21mpredict\u001B[39m(\u001B[38;5;28mself\u001B[39m, X):\n\u001B[0;32m    416\u001B[0m \u001B[38;5;250m    \u001B[39m\u001B[38;5;124;03m\"\"\"Perform regression on samples in X.\u001B[39;00m\n\u001B[0;32m    417\u001B[0m \n\u001B[0;32m    418\u001B[0m \u001B[38;5;124;03m    For an one-class model, +1 (inlier) or -1 (outlier) is returned.\u001B[39;00m\n\u001B[1;32m   (...)\u001B[0m\n\u001B[0;32m    429\u001B[0m \u001B[38;5;124;03m        The predicted values.\u001B[39;00m\n\u001B[0;32m    430\u001B[0m \u001B[38;5;124;03m    \"\"\"\u001B[39;00m\n\u001B[1;32m--> 431\u001B[0m     X \u001B[38;5;241m=\u001B[39m \u001B[38;5;28;43mself\u001B[39;49m\u001B[38;5;241;43m.\u001B[39;49m\u001B[43m_validate_for_predict\u001B[49m\u001B[43m(\u001B[49m\u001B[43mX\u001B[49m\u001B[43m)\u001B[49m\n\u001B[0;32m    432\u001B[0m     predict \u001B[38;5;241m=\u001B[39m \u001B[38;5;28mself\u001B[39m\u001B[38;5;241m.\u001B[39m_sparse_predict \u001B[38;5;28;01mif\u001B[39;00m \u001B[38;5;28mself\u001B[39m\u001B[38;5;241m.\u001B[39m_sparse \u001B[38;5;28;01melse\u001B[39;00m \u001B[38;5;28mself\u001B[39m\u001B[38;5;241m.\u001B[39m_dense_predict\n\u001B[0;32m    433\u001B[0m     \u001B[38;5;28;01mreturn\u001B[39;00m predict(X)\n",
      "File \u001B[1;32m~\\AppData\\Local\\Programs\\Python\\Python310\\lib\\site-packages\\sklearn\\svm\\_base.py:611\u001B[0m, in \u001B[0;36mBaseLibSVM._validate_for_predict\u001B[1;34m(self, X)\u001B[0m\n\u001B[0;32m    608\u001B[0m check_is_fitted(\u001B[38;5;28mself\u001B[39m)\n\u001B[0;32m    610\u001B[0m \u001B[38;5;28;01mif\u001B[39;00m \u001B[38;5;129;01mnot\u001B[39;00m \u001B[38;5;28mcallable\u001B[39m(\u001B[38;5;28mself\u001B[39m\u001B[38;5;241m.\u001B[39mkernel):\n\u001B[1;32m--> 611\u001B[0m     X \u001B[38;5;241m=\u001B[39m \u001B[38;5;28;43mself\u001B[39;49m\u001B[38;5;241;43m.\u001B[39;49m\u001B[43m_validate_data\u001B[49m\u001B[43m(\u001B[49m\n\u001B[0;32m    612\u001B[0m \u001B[43m        \u001B[49m\u001B[43mX\u001B[49m\u001B[43m,\u001B[49m\n\u001B[0;32m    613\u001B[0m \u001B[43m        \u001B[49m\u001B[43maccept_sparse\u001B[49m\u001B[38;5;241;43m=\u001B[39;49m\u001B[38;5;124;43m\"\u001B[39;49m\u001B[38;5;124;43mcsr\u001B[39;49m\u001B[38;5;124;43m\"\u001B[39;49m\u001B[43m,\u001B[49m\n\u001B[0;32m    614\u001B[0m \u001B[43m        \u001B[49m\u001B[43mdtype\u001B[49m\u001B[38;5;241;43m=\u001B[39;49m\u001B[43mnp\u001B[49m\u001B[38;5;241;43m.\u001B[39;49m\u001B[43mfloat64\u001B[49m\u001B[43m,\u001B[49m\n\u001B[0;32m    615\u001B[0m \u001B[43m        \u001B[49m\u001B[43morder\u001B[49m\u001B[38;5;241;43m=\u001B[39;49m\u001B[38;5;124;43m\"\u001B[39;49m\u001B[38;5;124;43mC\u001B[39;49m\u001B[38;5;124;43m\"\u001B[39;49m\u001B[43m,\u001B[49m\n\u001B[0;32m    616\u001B[0m \u001B[43m        \u001B[49m\u001B[43maccept_large_sparse\u001B[49m\u001B[38;5;241;43m=\u001B[39;49m\u001B[38;5;28;43;01mFalse\u001B[39;49;00m\u001B[43m,\u001B[49m\n\u001B[0;32m    617\u001B[0m \u001B[43m        \u001B[49m\u001B[43mreset\u001B[49m\u001B[38;5;241;43m=\u001B[39;49m\u001B[38;5;28;43;01mFalse\u001B[39;49;00m\u001B[43m,\u001B[49m\n\u001B[0;32m    618\u001B[0m \u001B[43m    \u001B[49m\u001B[43m)\u001B[49m\n\u001B[0;32m    620\u001B[0m \u001B[38;5;28;01mif\u001B[39;00m \u001B[38;5;28mself\u001B[39m\u001B[38;5;241m.\u001B[39m_sparse \u001B[38;5;129;01mand\u001B[39;00m \u001B[38;5;129;01mnot\u001B[39;00m sp\u001B[38;5;241m.\u001B[39missparse(X):\n\u001B[0;32m    621\u001B[0m     X \u001B[38;5;241m=\u001B[39m sp\u001B[38;5;241m.\u001B[39mcsr_matrix(X)\n",
      "File \u001B[1;32m~\\AppData\\Local\\Programs\\Python\\Python310\\lib\\site-packages\\sklearn\\base.py:580\u001B[0m, in \u001B[0;36mBaseEstimator._validate_data\u001B[1;34m(self, X, y, reset, validate_separately, cast_to_ndarray, **check_params)\u001B[0m\n\u001B[0;32m    509\u001B[0m \u001B[38;5;28;01mdef\u001B[39;00m \u001B[38;5;21m_validate_data\u001B[39m(\n\u001B[0;32m    510\u001B[0m     \u001B[38;5;28mself\u001B[39m,\n\u001B[0;32m    511\u001B[0m     X\u001B[38;5;241m=\u001B[39m\u001B[38;5;124m\"\u001B[39m\u001B[38;5;124mno_validation\u001B[39m\u001B[38;5;124m\"\u001B[39m,\n\u001B[1;32m   (...)\u001B[0m\n\u001B[0;32m    516\u001B[0m     \u001B[38;5;241m*\u001B[39m\u001B[38;5;241m*\u001B[39mcheck_params,\n\u001B[0;32m    517\u001B[0m ):\n\u001B[0;32m    518\u001B[0m \u001B[38;5;250m    \u001B[39m\u001B[38;5;124;03m\"\"\"Validate input data and set or check the `n_features_in_` attribute.\u001B[39;00m\n\u001B[0;32m    519\u001B[0m \n\u001B[0;32m    520\u001B[0m \u001B[38;5;124;03m    Parameters\u001B[39;00m\n\u001B[1;32m   (...)\u001B[0m\n\u001B[0;32m    578\u001B[0m \u001B[38;5;124;03m        validated.\u001B[39;00m\n\u001B[0;32m    579\u001B[0m \u001B[38;5;124;03m    \"\"\"\u001B[39;00m\n\u001B[1;32m--> 580\u001B[0m     \u001B[38;5;28;43mself\u001B[39;49m\u001B[38;5;241;43m.\u001B[39;49m\u001B[43m_check_feature_names\u001B[49m\u001B[43m(\u001B[49m\u001B[43mX\u001B[49m\u001B[43m,\u001B[49m\u001B[43m \u001B[49m\u001B[43mreset\u001B[49m\u001B[38;5;241;43m=\u001B[39;49m\u001B[43mreset\u001B[49m\u001B[43m)\u001B[49m\n\u001B[0;32m    582\u001B[0m     \u001B[38;5;28;01mif\u001B[39;00m y \u001B[38;5;129;01mis\u001B[39;00m \u001B[38;5;28;01mNone\u001B[39;00m \u001B[38;5;129;01mand\u001B[39;00m \u001B[38;5;28mself\u001B[39m\u001B[38;5;241m.\u001B[39m_get_tags()[\u001B[38;5;124m\"\u001B[39m\u001B[38;5;124mrequires_y\u001B[39m\u001B[38;5;124m\"\u001B[39m]:\n\u001B[0;32m    583\u001B[0m         \u001B[38;5;28;01mraise\u001B[39;00m \u001B[38;5;167;01mValueError\u001B[39;00m(\n\u001B[0;32m    584\u001B[0m             \u001B[38;5;124mf\u001B[39m\u001B[38;5;124m\"\u001B[39m\u001B[38;5;124mThis \u001B[39m\u001B[38;5;132;01m{\u001B[39;00m\u001B[38;5;28mself\u001B[39m\u001B[38;5;241m.\u001B[39m\u001B[38;5;18m__class__\u001B[39m\u001B[38;5;241m.\u001B[39m\u001B[38;5;18m__name__\u001B[39m\u001B[38;5;132;01m}\u001B[39;00m\u001B[38;5;124m estimator \u001B[39m\u001B[38;5;124m\"\u001B[39m\n\u001B[0;32m    585\u001B[0m             \u001B[38;5;124m\"\u001B[39m\u001B[38;5;124mrequires y to be passed, but the target y is None.\u001B[39m\u001B[38;5;124m\"\u001B[39m\n\u001B[0;32m    586\u001B[0m         )\n",
      "File \u001B[1;32m~\\AppData\\Local\\Programs\\Python\\Python310\\lib\\site-packages\\sklearn\\base.py:507\u001B[0m, in \u001B[0;36mBaseEstimator._check_feature_names\u001B[1;34m(self, X, reset)\u001B[0m\n\u001B[0;32m    502\u001B[0m \u001B[38;5;28;01mif\u001B[39;00m \u001B[38;5;129;01mnot\u001B[39;00m missing_names \u001B[38;5;129;01mand\u001B[39;00m \u001B[38;5;129;01mnot\u001B[39;00m unexpected_names:\n\u001B[0;32m    503\u001B[0m     message \u001B[38;5;241m+\u001B[39m\u001B[38;5;241m=\u001B[39m (\n\u001B[0;32m    504\u001B[0m         \u001B[38;5;124m\"\u001B[39m\u001B[38;5;124mFeature names must be in the same order as they were in fit.\u001B[39m\u001B[38;5;130;01m\\n\u001B[39;00m\u001B[38;5;124m\"\u001B[39m\n\u001B[0;32m    505\u001B[0m     )\n\u001B[1;32m--> 507\u001B[0m \u001B[38;5;28;01mraise\u001B[39;00m \u001B[38;5;167;01mValueError\u001B[39;00m(message)\n",
      "\u001B[1;31mValueError\u001B[0m: The feature names should match those that were passed during fit.\nFeature names seen at fit time, yet now missing:\n- chlorides\n- citric acid\n- density\n- fixed acidity\n- free sulfur dioxide\n- ...\n"
     ]
    }
   ],
   "source": [
    "svm_pred = svm.predict(X_test)\n",
    "print(classification_report(y_test, svm_pred))\n",
    "print(\"MCC:\", matthews_corrcoef(y_test, svm_pred))\n",
    "print(\"Confusion Matrix:\")\n",
    "print(confusion_matrix(y_test, svm_pred))"
   ],
   "metadata": {
    "collapsed": false
   }
  },
  {
   "cell_type": "markdown",
   "source": [
    "#### 5.1.4. Decision Tree"
   ],
   "metadata": {
    "collapsed": false
   }
  },
  {
   "cell_type": "code",
   "execution_count": 43,
   "outputs": [
    {
     "name": "stdout",
     "output_type": "stream",
     "text": [
      "              precision    recall  f1-score   support\n",
      "\n",
      "           3       0.00      0.00      0.00         3\n",
      "           4       0.20      0.23      0.21        31\n",
      "           5       0.62      0.61      0.61       295\n",
      "           6       0.63      0.60      0.61       445\n",
      "           7       0.49      0.52      0.50       168\n",
      "           8       0.39      0.47      0.42        36\n",
      "           9       0.00      0.00      0.00         2\n",
      "\n",
      "    accuracy                           0.57       980\n",
      "   macro avg       0.33      0.35      0.34       980\n",
      "weighted avg       0.58      0.57      0.57       980\n",
      "\n",
      "MCC: 0.3668703155633563\n",
      "Confusion Matrix:\n",
      "[[  0   0   0   2   1   0   0]\n",
      " [  0   7   8  11   5   0   0]\n",
      " [  3  10 180  87  15   0   0]\n",
      " [  2  11  89 267  64  12   0]\n",
      " [  1   4  13  48  87  14   1]\n",
      " [  0   3   1   9   6  17   0]\n",
      " [  0   0   1   0   0   1   0]]\n"
     ]
    }
   ],
   "source": [
    "dt_pred = dt.predict(X_test)\n",
    "print(classification_report(y_test, dt_pred))\n",
    "print(\"MCC:\", matthews_corrcoef(y_test, dt_pred))\n",
    "print(\"Confusion Matrix:\")\n",
    "print(confusion_matrix(y_test, dt_pred))"
   ],
   "metadata": {
    "collapsed": false
   }
  },
  {
   "cell_type": "markdown",
   "source": [
    "### 5.2. Save the best model"
   ],
   "metadata": {
    "collapsed": false
   }
  },
  {
   "cell_type": "code",
   "execution_count": 21,
   "outputs": [
    {
     "data": {
      "text/plain": "['wine_quality_model.pkl']"
     },
     "execution_count": 21,
     "metadata": {},
     "output_type": "execute_result"
    }
   ],
   "source": [
    "joblib.dump(dt, 'wine_quality_model.pkl')"
   ],
   "metadata": {
    "collapsed": false
   }
  },
  {
   "cell_type": "markdown",
   "source": [
    "## Part 6: Predict the quality of wine"
   ],
   "metadata": {
    "collapsed": false
   }
  },
  {
   "cell_type": "markdown",
   "source": [
    "### 6.1. Load the model"
   ],
   "metadata": {
    "collapsed": false
   }
  },
  {
   "cell_type": "code",
   "execution_count": 22,
   "outputs": [],
   "source": [
    "model = joblib.load('wine_quality_model.pkl')"
   ],
   "metadata": {
    "collapsed": false
   }
  },
  {
   "cell_type": "markdown",
   "source": [
    "### 6.2. Predict the quality of wine using new data"
   ],
   "metadata": {
    "collapsed": false
   }
  },
  {
   "cell_type": "code",
   "execution_count": 23,
   "outputs": [
    {
     "name": "stdout",
     "output_type": "stream",
     "text": [
      "Predicted wine quality: [6]\n"
     ]
    },
    {
     "name": "stderr",
     "output_type": "stream",
     "text": [
      "C:\\Users\\jerem\\AppData\\Local\\Programs\\Python\\Python310\\lib\\site-packages\\sklearn\\base.py:465: UserWarning: X does not have valid feature names, but DecisionTreeClassifier was fitted with feature names\n",
      "  warnings.warn(\n"
     ]
    }
   ],
   "source": [
    "new_data = np.array([[7.0, 0.27, 0.36, 20.7, 0.045, 45.0, 170.0, 1.001, 3.0, 0.45, 8.8]])\n",
    "print(\"Predicted wine quality:\", model.predict(new_data))"
   ],
   "metadata": {
    "collapsed": false
   }
  },
  {
   "cell_type": "markdown",
   "source": [
    "## Part 7: Build a web application using Streamlit"
   ],
   "metadata": {
    "collapsed": false
   }
  },
  {
   "cell_type": "code",
   "execution_count": 24,
   "outputs": [
    {
     "name": "stderr",
     "output_type": "stream",
     "text": [
      "2023-12-05 17:00:34.012 \n",
      "  \u001B[33m\u001B[1mWarning:\u001B[0m to view this Streamlit app on a browser, run it with the following\n",
      "  command:\n",
      "\n",
      "    streamlit run C:\\Users\\jerem\\AppData\\Local\\Programs\\Python\\Python310\\lib\\site-packages\\ipykernel_launcher.py [ARGUMENTS]\n"
     ]
    },
    {
     "data": {
      "text/plain": "DeltaGenerator(_root_container=1, _parent=DeltaGenerator())"
     },
     "execution_count": 24,
     "metadata": {},
     "output_type": "execute_result"
    }
   ],
   "source": [
    "st.title('Wine Quality Prediction')\n",
    "st.write('This is a web application that predicts the quality of wine.')\n",
    "st.write('Please enter the values of the features of the wine in the sidebar and click the \"Predict\" button to predict the quality of the wine.')\n",
    "st.sidebar.header('User Input Parameters')"
   ],
   "metadata": {
    "collapsed": false
   }
  },
  {
   "cell_type": "code",
   "execution_count": 25,
   "outputs": [
    {
     "name": "stdout",
     "output_type": "stream",
     "text": [
      "# {}th neuron in the hidden layer\n",
      "h{} = sigmoid(self.w133 * x[0] + self.w134 * x[1] + self.w135 * x[2] + self.w136 * x[3] + self.w137 * x[4] + self.w138 * x[5] + self.w139 * x[6] + self.w140 * x[7] + self.w141 * x[8] + self.w142 * x[9] + self.w143 * x[10] + self.b13)\n",
      "# {}th neuron in the hidden layer\n",
      "h{} = sigmoid(self.w133 * x[0] + self.w134 * x[1] + self.w135 * x[2] + self.w136 * x[3] + self.w137 * x[4] + self.w138 * x[5] + self.w139 * x[6] + self.w140 * x[7] + self.w141 * x[8] + self.w142 * x[9] + self.w143 * x[10] + self.b13)\n",
      "# {}th neuron in the hidden layer\n",
      "h{} = sigmoid(self.w133 * x[0] + self.w134 * x[1] + self.w135 * x[2] + self.w136 * x[3] + self.w137 * x[4] + self.w138 * x[5] + self.w139 * x[6] + self.w140 * x[7] + self.w141 * x[8] + self.w142 * x[9] + self.w143 * x[10] + self.b13)\n",
      "# {}th neuron in the hidden layer\n",
      "h{} = sigmoid(self.w133 * x[0] + self.w134 * x[1] + self.w135 * x[2] + self.w136 * x[3] + self.w137 * x[4] + self.w138 * x[5] + self.w139 * x[6] + self.w140 * x[7] + self.w141 * x[8] + self.w142 * x[9] + self.w143 * x[10] + self.b13)\n",
      "# {}th neuron in the hidden layer\n",
      "h{} = sigmoid(self.w133 * x[0] + self.w134 * x[1] + self.w135 * x[2] + self.w136 * x[3] + self.w137 * x[4] + self.w138 * x[5] + self.w139 * x[6] + self.w140 * x[7] + self.w141 * x[8] + self.w142 * x[9] + self.w143 * x[10] + self.b13)\n",
      "# {}th neuron in the hidden layer\n",
      "h{} = sigmoid(self.w133 * x[0] + self.w134 * x[1] + self.w135 * x[2] + self.w136 * x[3] + self.w137 * x[4] + self.w138 * x[5] + self.w139 * x[6] + self.w140 * x[7] + self.w141 * x[8] + self.w142 * x[9] + self.w143 * x[10] + self.b13)\n",
      "# {}th neuron in the hidden layer\n",
      "h{} = sigmoid(self.w133 * x[0] + self.w134 * x[1] + self.w135 * x[2] + self.w136 * x[3] + self.w137 * x[4] + self.w138 * x[5] + self.w139 * x[6] + self.w140 * x[7] + self.w141 * x[8] + self.w142 * x[9] + self.w143 * x[10] + self.b13)\n",
      "# {}th neuron in the hidden layer\n",
      "h{} = sigmoid(self.w133 * x[0] + self.w134 * x[1] + self.w135 * x[2] + self.w136 * x[3] + self.w137 * x[4] + self.w138 * x[5] + self.w139 * x[6] + self.w140 * x[7] + self.w141 * x[8] + self.w142 * x[9] + self.w143 * x[10] + self.b13)\n",
      "# {}th neuron in the hidden layer\n",
      "h{} = sigmoid(self.w133 * x[0] + self.w134 * x[1] + self.w135 * x[2] + self.w136 * x[3] + self.w137 * x[4] + self.w138 * x[5] + self.w139 * x[6] + self.w140 * x[7] + self.w141 * x[8] + self.w142 * x[9] + self.w143 * x[10] + self.b13)\n",
      "# {}th neuron in the hidden layer\n",
      "h{} = sigmoid(self.w133 * x[0] + self.w134 * x[1] + self.w135 * x[2] + self.w136 * x[3] + self.w137 * x[4] + self.w138 * x[5] + self.w139 * x[6] + self.w140 * x[7] + self.w141 * x[8] + self.w142 * x[9] + self.w143 * x[10] + self.b13)\n",
      "# {}th neuron in the hidden layer\n",
      "h{} = sigmoid(self.w133 * x[0] + self.w134 * x[1] + self.w135 * x[2] + self.w136 * x[3] + self.w137 * x[4] + self.w138 * x[5] + self.w139 * x[6] + self.w140 * x[7] + self.w141 * x[8] + self.w142 * x[9] + self.w143 * x[10] + self.b13)\n",
      "# {}th neuron in the hidden layer\n",
      "h{} = sigmoid(self.w133 * x[0] + self.w134 * x[1] + self.w135 * x[2] + self.w136 * x[3] + self.w137 * x[4] + self.w138 * x[5] + self.w139 * x[6] + self.w140 * x[7] + self.w141 * x[8] + self.w142 * x[9] + self.w143 * x[10] + self.b13)\n",
      "# {}th neuron in the hidden layer\n",
      "h{} = sigmoid(self.w133 * x[0] + self.w134 * x[1] + self.w135 * x[2] + self.w136 * x[3] + self.w137 * x[4] + self.w138 * x[5] + self.w139 * x[6] + self.w140 * x[7] + self.w141 * x[8] + self.w142 * x[9] + self.w143 * x[10] + self.b13)\n",
      "# {}th neuron in the hidden layer\n",
      "h{} = sigmoid(self.w133 * x[0] + self.w134 * x[1] + self.w135 * x[2] + self.w136 * x[3] + self.w137 * x[4] + self.w138 * x[5] + self.w139 * x[6] + self.w140 * x[7] + self.w141 * x[8] + self.w142 * x[9] + self.w143 * x[10] + self.b13)\n",
      "# {}th neuron in the hidden layer\n",
      "h{} = sigmoid(self.w133 * x[0] + self.w134 * x[1] + self.w135 * x[2] + self.w136 * x[3] + self.w137 * x[4] + self.w138 * x[5] + self.w139 * x[6] + self.w140 * x[7] + self.w141 * x[8] + self.w142 * x[9] + self.w143 * x[10] + self.b13)\n",
      "# {}th neuron in the hidden layer\n",
      "h{} = sigmoid(self.w133 * x[0] + self.w134 * x[1] + self.w135 * x[2] + self.w136 * x[3] + self.w137 * x[4] + self.w138 * x[5] + self.w139 * x[6] + self.w140 * x[7] + self.w141 * x[8] + self.w142 * x[9] + self.w143 * x[10] + self.b13)\n",
      "# {}th neuron in the hidden layer\n",
      "h{} = sigmoid(self.w133 * x[0] + self.w134 * x[1] + self.w135 * x[2] + self.w136 * x[3] + self.w137 * x[4] + self.w138 * x[5] + self.w139 * x[6] + self.w140 * x[7] + self.w141 * x[8] + self.w142 * x[9] + self.w143 * x[10] + self.b13)\n",
      "# {}th neuron in the hidden layer\n",
      "h{} = sigmoid(self.w133 * x[0] + self.w134 * x[1] + self.w135 * x[2] + self.w136 * x[3] + self.w137 * x[4] + self.w138 * x[5] + self.w139 * x[6] + self.w140 * x[7] + self.w141 * x[8] + self.w142 * x[9] + self.w143 * x[10] + self.b13)\n",
      "# {}th neuron in the hidden layer\n",
      "h{} = sigmoid(self.w133 * x[0] + self.w134 * x[1] + self.w135 * x[2] + self.w136 * x[3] + self.w137 * x[4] + self.w138 * x[5] + self.w139 * x[6] + self.w140 * x[7] + self.w141 * x[8] + self.w142 * x[9] + self.w143 * x[10] + self.b13)\n",
      "# {}th neuron in the hidden layer\n",
      "h{} = sigmoid(self.w133 * x[0] + self.w134 * x[1] + self.w135 * x[2] + self.w136 * x[3] + self.w137 * x[4] + self.w138 * x[5] + self.w139 * x[6] + self.w140 * x[7] + self.w141 * x[8] + self.w142 * x[9] + self.w143 * x[10] + self.b13)\n",
      "# {}th neuron in the hidden layer\n",
      "h{} = sigmoid(self.w133 * x[0] + self.w134 * x[1] + self.w135 * x[2] + self.w136 * x[3] + self.w137 * x[4] + self.w138 * x[5] + self.w139 * x[6] + self.w140 * x[7] + self.w141 * x[8] + self.w142 * x[9] + self.w143 * x[10] + self.b13)\n",
      "# {}th neuron in the hidden layer\n",
      "h{} = sigmoid(self.w133 * x[0] + self.w134 * x[1] + self.w135 * x[2] + self.w136 * x[3] + self.w137 * x[4] + self.w138 * x[5] + self.w139 * x[6] + self.w140 * x[7] + self.w141 * x[8] + self.w142 * x[9] + self.w143 * x[10] + self.b13)\n",
      "# {}th neuron in the hidden layer\n",
      "h{} = sigmoid(self.w133 * x[0] + self.w134 * x[1] + self.w135 * x[2] + self.w136 * x[3] + self.w137 * x[4] + self.w138 * x[5] + self.w139 * x[6] + self.w140 * x[7] + self.w141 * x[8] + self.w142 * x[9] + self.w143 * x[10] + self.b13)\n",
      "# {}th neuron in the hidden layer\n",
      "h{} = sigmoid(self.w133 * x[0] + self.w134 * x[1] + self.w135 * x[2] + self.w136 * x[3] + self.w137 * x[4] + self.w138 * x[5] + self.w139 * x[6] + self.w140 * x[7] + self.w141 * x[8] + self.w142 * x[9] + self.w143 * x[10] + self.b13)\n",
      "# {}th neuron in the hidden layer\n",
      "h{} = sigmoid(self.w133 * x[0] + self.w134 * x[1] + self.w135 * x[2] + self.w136 * x[3] + self.w137 * x[4] + self.w138 * x[5] + self.w139 * x[6] + self.w140 * x[7] + self.w141 * x[8] + self.w142 * x[9] + self.w143 * x[10] + self.b13)\n",
      "# {}th neuron in the hidden layer\n",
      "h{} = sigmoid(self.w133 * x[0] + self.w134 * x[1] + self.w135 * x[2] + self.w136 * x[3] + self.w137 * x[4] + self.w138 * x[5] + self.w139 * x[6] + self.w140 * x[7] + self.w141 * x[8] + self.w142 * x[9] + self.w143 * x[10] + self.b13)\n",
      "# {}th neuron in the hidden layer\n",
      "h{} = sigmoid(self.w133 * x[0] + self.w134 * x[1] + self.w135 * x[2] + self.w136 * x[3] + self.w137 * x[4] + self.w138 * x[5] + self.w139 * x[6] + self.w140 * x[7] + self.w141 * x[8] + self.w142 * x[9] + self.w143 * x[10] + self.b13)\n",
      "# {}th neuron in the hidden layer\n",
      "h{} = sigmoid(self.w133 * x[0] + self.w134 * x[1] + self.w135 * x[2] + self.w136 * x[3] + self.w137 * x[4] + self.w138 * x[5] + self.w139 * x[6] + self.w140 * x[7] + self.w141 * x[8] + self.w142 * x[9] + self.w143 * x[10] + self.b13)\n",
      "# {}th neuron in the hidden layer\n",
      "h{} = sigmoid(self.w133 * x[0] + self.w134 * x[1] + self.w135 * x[2] + self.w136 * x[3] + self.w137 * x[4] + self.w138 * x[5] + self.w139 * x[6] + self.w140 * x[7] + self.w141 * x[8] + self.w142 * x[9] + self.w143 * x[10] + self.b13)\n",
      "# {}th neuron in the hidden layer\n",
      "h{} = sigmoid(self.w133 * x[0] + self.w134 * x[1] + self.w135 * x[2] + self.w136 * x[3] + self.w137 * x[4] + self.w138 * x[5] + self.w139 * x[6] + self.w140 * x[7] + self.w141 * x[8] + self.w142 * x[9] + self.w143 * x[10] + self.b13)\n",
      "# {}th neuron in the hidden layer\n",
      "h{} = sigmoid(self.w133 * x[0] + self.w134 * x[1] + self.w135 * x[2] + self.w136 * x[3] + self.w137 * x[4] + self.w138 * x[5] + self.w139 * x[6] + self.w140 * x[7] + self.w141 * x[8] + self.w142 * x[9] + self.w143 * x[10] + self.b13)\n",
      "# {}th neuron in the hidden layer\n",
      "h{} = sigmoid(self.w133 * x[0] + self.w134 * x[1] + self.w135 * x[2] + self.w136 * x[3] + self.w137 * x[4] + self.w138 * x[5] + self.w139 * x[6] + self.w140 * x[7] + self.w141 * x[8] + self.w142 * x[9] + self.w143 * x[10] + self.b13)\n",
      "# {}th neuron in the hidden layer\n",
      "h{} = sigmoid(self.w133 * x[0] + self.w134 * x[1] + self.w135 * x[2] + self.w136 * x[3] + self.w137 * x[4] + self.w138 * x[5] + self.w139 * x[6] + self.w140 * x[7] + self.w141 * x[8] + self.w142 * x[9] + self.w143 * x[10] + self.b13)\n",
      "# {}th neuron in the hidden layer\n",
      "h{} = sigmoid(self.w133 * x[0] + self.w134 * x[1] + self.w135 * x[2] + self.w136 * x[3] + self.w137 * x[4] + self.w138 * x[5] + self.w139 * x[6] + self.w140 * x[7] + self.w141 * x[8] + self.w142 * x[9] + self.w143 * x[10] + self.b13)\n",
      "# {}th neuron in the hidden layer\n",
      "h{} = sigmoid(self.w133 * x[0] + self.w134 * x[1] + self.w135 * x[2] + self.w136 * x[3] + self.w137 * x[4] + self.w138 * x[5] + self.w139 * x[6] + self.w140 * x[7] + self.w141 * x[8] + self.w142 * x[9] + self.w143 * x[10] + self.b13)\n",
      "# {}th neuron in the hidden layer\n",
      "h{} = sigmoid(self.w133 * x[0] + self.w134 * x[1] + self.w135 * x[2] + self.w136 * x[3] + self.w137 * x[4] + self.w138 * x[5] + self.w139 * x[6] + self.w140 * x[7] + self.w141 * x[8] + self.w142 * x[9] + self.w143 * x[10] + self.b13)\n",
      "# {}th neuron in the hidden layer\n",
      "h{} = sigmoid(self.w133 * x[0] + self.w134 * x[1] + self.w135 * x[2] + self.w136 * x[3] + self.w137 * x[4] + self.w138 * x[5] + self.w139 * x[6] + self.w140 * x[7] + self.w141 * x[8] + self.w142 * x[9] + self.w143 * x[10] + self.b13)\n",
      "# {}th neuron in the hidden layer\n",
      "h{} = sigmoid(self.w133 * x[0] + self.w134 * x[1] + self.w135 * x[2] + self.w136 * x[3] + self.w137 * x[4] + self.w138 * x[5] + self.w139 * x[6] + self.w140 * x[7] + self.w141 * x[8] + self.w142 * x[9] + self.w143 * x[10] + self.b13)\n",
      "# {}th neuron in the hidden layer\n",
      "h{} = sigmoid(self.w133 * x[0] + self.w134 * x[1] + self.w135 * x[2] + self.w136 * x[3] + self.w137 * x[4] + self.w138 * x[5] + self.w139 * x[6] + self.w140 * x[7] + self.w141 * x[8] + self.w142 * x[9] + self.w143 * x[10] + self.b13)\n",
      "# {}th neuron in the hidden layer\n",
      "h{} = sigmoid(self.w133 * x[0] + self.w134 * x[1] + self.w135 * x[2] + self.w136 * x[3] + self.w137 * x[4] + self.w138 * x[5] + self.w139 * x[6] + self.w140 * x[7] + self.w141 * x[8] + self.w142 * x[9] + self.w143 * x[10] + self.b13)\n",
      "# {}th neuron in the hidden layer\n",
      "h{} = sigmoid(self.w133 * x[0] + self.w134 * x[1] + self.w135 * x[2] + self.w136 * x[3] + self.w137 * x[4] + self.w138 * x[5] + self.w139 * x[6] + self.w140 * x[7] + self.w141 * x[8] + self.w142 * x[9] + self.w143 * x[10] + self.b13)\n",
      "# {}th neuron in the hidden layer\n",
      "h{} = sigmoid(self.w133 * x[0] + self.w134 * x[1] + self.w135 * x[2] + self.w136 * x[3] + self.w137 * x[4] + self.w138 * x[5] + self.w139 * x[6] + self.w140 * x[7] + self.w141 * x[8] + self.w142 * x[9] + self.w143 * x[10] + self.b13)\n",
      "# {}th neuron in the hidden layer\n",
      "h{} = sigmoid(self.w133 * x[0] + self.w134 * x[1] + self.w135 * x[2] + self.w136 * x[3] + self.w137 * x[4] + self.w138 * x[5] + self.w139 * x[6] + self.w140 * x[7] + self.w141 * x[8] + self.w142 * x[9] + self.w143 * x[10] + self.b13)\n",
      "# {}th neuron in the hidden layer\n",
      "h{} = sigmoid(self.w133 * x[0] + self.w134 * x[1] + self.w135 * x[2] + self.w136 * x[3] + self.w137 * x[4] + self.w138 * x[5] + self.w139 * x[6] + self.w140 * x[7] + self.w141 * x[8] + self.w142 * x[9] + self.w143 * x[10] + self.b13)\n",
      "# {}th neuron in the hidden layer\n",
      "h{} = sigmoid(self.w133 * x[0] + self.w134 * x[1] + self.w135 * x[2] + self.w136 * x[3] + self.w137 * x[4] + self.w138 * x[5] + self.w139 * x[6] + self.w140 * x[7] + self.w141 * x[8] + self.w142 * x[9] + self.w143 * x[10] + self.b13)\n",
      "# {}th neuron in the hidden layer\n",
      "h{} = sigmoid(self.w133 * x[0] + self.w134 * x[1] + self.w135 * x[2] + self.w136 * x[3] + self.w137 * x[4] + self.w138 * x[5] + self.w139 * x[6] + self.w140 * x[7] + self.w141 * x[8] + self.w142 * x[9] + self.w143 * x[10] + self.b13)\n",
      "# {}th neuron in the hidden layer\n",
      "h{} = sigmoid(self.w133 * x[0] + self.w134 * x[1] + self.w135 * x[2] + self.w136 * x[3] + self.w137 * x[4] + self.w138 * x[5] + self.w139 * x[6] + self.w140 * x[7] + self.w141 * x[8] + self.w142 * x[9] + self.w143 * x[10] + self.b13)\n",
      "# {}th neuron in the hidden layer\n",
      "h{} = sigmoid(self.w133 * x[0] + self.w134 * x[1] + self.w135 * x[2] + self.w136 * x[3] + self.w137 * x[4] + self.w138 * x[5] + self.w139 * x[6] + self.w140 * x[7] + self.w141 * x[8] + self.w142 * x[9] + self.w143 * x[10] + self.b13)\n",
      "# {}th neuron in the hidden layer\n",
      "h{} = sigmoid(self.w133 * x[0] + self.w134 * x[1] + self.w135 * x[2] + self.w136 * x[3] + self.w137 * x[4] + self.w138 * x[5] + self.w139 * x[6] + self.w140 * x[7] + self.w141 * x[8] + self.w142 * x[9] + self.w143 * x[10] + self.b13)\n",
      "# {}th neuron in the hidden layer\n",
      "h{} = sigmoid(self.w133 * x[0] + self.w134 * x[1] + self.w135 * x[2] + self.w136 * x[3] + self.w137 * x[4] + self.w138 * x[5] + self.w139 * x[6] + self.w140 * x[7] + self.w141 * x[8] + self.w142 * x[9] + self.w143 * x[10] + self.b13)\n",
      "# {}th neuron in the hidden layer\n",
      "h{} = sigmoid(self.w133 * x[0] + self.w134 * x[1] + self.w135 * x[2] + self.w136 * x[3] + self.w137 * x[4] + self.w138 * x[5] + self.w139 * x[6] + self.w140 * x[7] + self.w141 * x[8] + self.w142 * x[9] + self.w143 * x[10] + self.b13)\n",
      "# {}th neuron in the hidden layer\n",
      "h{} = sigmoid(self.w133 * x[0] + self.w134 * x[1] + self.w135 * x[2] + self.w136 * x[3] + self.w137 * x[4] + self.w138 * x[5] + self.w139 * x[6] + self.w140 * x[7] + self.w141 * x[8] + self.w142 * x[9] + self.w143 * x[10] + self.b13)\n",
      "# {}th neuron in the hidden layer\n",
      "h{} = sigmoid(self.w133 * x[0] + self.w134 * x[1] + self.w135 * x[2] + self.w136 * x[3] + self.w137 * x[4] + self.w138 * x[5] + self.w139 * x[6] + self.w140 * x[7] + self.w141 * x[8] + self.w142 * x[9] + self.w143 * x[10] + self.b13)\n",
      "# {}th neuron in the hidden layer\n",
      "h{} = sigmoid(self.w133 * x[0] + self.w134 * x[1] + self.w135 * x[2] + self.w136 * x[3] + self.w137 * x[4] + self.w138 * x[5] + self.w139 * x[6] + self.w140 * x[7] + self.w141 * x[8] + self.w142 * x[9] + self.w143 * x[10] + self.b13)\n",
      "# {}th neuron in the hidden layer\n",
      "h{} = sigmoid(self.w133 * x[0] + self.w134 * x[1] + self.w135 * x[2] + self.w136 * x[3] + self.w137 * x[4] + self.w138 * x[5] + self.w139 * x[6] + self.w140 * x[7] + self.w141 * x[8] + self.w142 * x[9] + self.w143 * x[10] + self.b13)\n",
      "# {}th neuron in the hidden layer\n",
      "h{} = sigmoid(self.w133 * x[0] + self.w134 * x[1] + self.w135 * x[2] + self.w136 * x[3] + self.w137 * x[4] + self.w138 * x[5] + self.w139 * x[6] + self.w140 * x[7] + self.w141 * x[8] + self.w142 * x[9] + self.w143 * x[10] + self.b13)\n",
      "# {}th neuron in the hidden layer\n",
      "h{} = sigmoid(self.w133 * x[0] + self.w134 * x[1] + self.w135 * x[2] + self.w136 * x[3] + self.w137 * x[4] + self.w138 * x[5] + self.w139 * x[6] + self.w140 * x[7] + self.w141 * x[8] + self.w142 * x[9] + self.w143 * x[10] + self.b13)\n",
      "# {}th neuron in the hidden layer\n",
      "h{} = sigmoid(self.w133 * x[0] + self.w134 * x[1] + self.w135 * x[2] + self.w136 * x[3] + self.w137 * x[4] + self.w138 * x[5] + self.w139 * x[6] + self.w140 * x[7] + self.w141 * x[8] + self.w142 * x[9] + self.w143 * x[10] + self.b13)\n",
      "# {}th neuron in the hidden layer\n",
      "h{} = sigmoid(self.w133 * x[0] + self.w134 * x[1] + self.w135 * x[2] + self.w136 * x[3] + self.w137 * x[4] + self.w138 * x[5] + self.w139 * x[6] + self.w140 * x[7] + self.w141 * x[8] + self.w142 * x[9] + self.w143 * x[10] + self.b13)\n",
      "# {}th neuron in the hidden layer\n",
      "h{} = sigmoid(self.w133 * x[0] + self.w134 * x[1] + self.w135 * x[2] + self.w136 * x[3] + self.w137 * x[4] + self.w138 * x[5] + self.w139 * x[6] + self.w140 * x[7] + self.w141 * x[8] + self.w142 * x[9] + self.w143 * x[10] + self.b13)\n",
      "# {}th neuron in the hidden layer\n",
      "h{} = sigmoid(self.w133 * x[0] + self.w134 * x[1] + self.w135 * x[2] + self.w136 * x[3] + self.w137 * x[4] + self.w138 * x[5] + self.w139 * x[6] + self.w140 * x[7] + self.w141 * x[8] + self.w142 * x[9] + self.w143 * x[10] + self.b13)\n",
      "# {}th neuron in the hidden layer\n",
      "h{} = sigmoid(self.w133 * x[0] + self.w134 * x[1] + self.w135 * x[2] + self.w136 * x[3] + self.w137 * x[4] + self.w138 * x[5] + self.w139 * x[6] + self.w140 * x[7] + self.w141 * x[8] + self.w142 * x[9] + self.w143 * x[10] + self.b13)\n",
      "# {}th neuron in the hidden layer\n",
      "h{} = sigmoid(self.w133 * x[0] + self.w134 * x[1] + self.w135 * x[2] + self.w136 * x[3] + self.w137 * x[4] + self.w138 * x[5] + self.w139 * x[6] + self.w140 * x[7] + self.w141 * x[8] + self.w142 * x[9] + self.w143 * x[10] + self.b13)\n",
      "# {}th neuron in the hidden layer\n",
      "h{} = sigmoid(self.w133 * x[0] + self.w134 * x[1] + self.w135 * x[2] + self.w136 * x[3] + self.w137 * x[4] + self.w138 * x[5] + self.w139 * x[6] + self.w140 * x[7] + self.w141 * x[8] + self.w142 * x[9] + self.w143 * x[10] + self.b13)\n",
      "# {}th neuron in the hidden layer\n",
      "h{} = sigmoid(self.w133 * x[0] + self.w134 * x[1] + self.w135 * x[2] + self.w136 * x[3] + self.w137 * x[4] + self.w138 * x[5] + self.w139 * x[6] + self.w140 * x[7] + self.w141 * x[8] + self.w142 * x[9] + self.w143 * x[10] + self.b13)\n",
      "# {}th neuron in the hidden layer\n",
      "h{} = sigmoid(self.w133 * x[0] + self.w134 * x[1] + self.w135 * x[2] + self.w136 * x[3] + self.w137 * x[4] + self.w138 * x[5] + self.w139 * x[6] + self.w140 * x[7] + self.w141 * x[8] + self.w142 * x[9] + self.w143 * x[10] + self.b13)\n",
      "# {}th neuron in the hidden layer\n",
      "h{} = sigmoid(self.w133 * x[0] + self.w134 * x[1] + self.w135 * x[2] + self.w136 * x[3] + self.w137 * x[4] + self.w138 * x[5] + self.w139 * x[6] + self.w140 * x[7] + self.w141 * x[8] + self.w142 * x[9] + self.w143 * x[10] + self.b13)\n",
      "# {}th neuron in the hidden layer\n",
      "h{} = sigmoid(self.w133 * x[0] + self.w134 * x[1] + self.w135 * x[2] + self.w136 * x[3] + self.w137 * x[4] + self.w138 * x[5] + self.w139 * x[6] + self.w140 * x[7] + self.w141 * x[8] + self.w142 * x[9] + self.w143 * x[10] + self.b13)\n",
      "# {}th neuron in the hidden layer\n",
      "h{} = sigmoid(self.w133 * x[0] + self.w134 * x[1] + self.w135 * x[2] + self.w136 * x[3] + self.w137 * x[4] + self.w138 * x[5] + self.w139 * x[6] + self.w140 * x[7] + self.w141 * x[8] + self.w142 * x[9] + self.w143 * x[10] + self.b13)\n",
      "# {}th neuron in the hidden layer\n",
      "h{} = sigmoid(self.w133 * x[0] + self.w134 * x[1] + self.w135 * x[2] + self.w136 * x[3] + self.w137 * x[4] + self.w138 * x[5] + self.w139 * x[6] + self.w140 * x[7] + self.w141 * x[8] + self.w142 * x[9] + self.w143 * x[10] + self.b13)\n",
      "# {}th neuron in the hidden layer\n",
      "h{} = sigmoid(self.w133 * x[0] + self.w134 * x[1] + self.w135 * x[2] + self.w136 * x[3] + self.w137 * x[4] + self.w138 * x[5] + self.w139 * x[6] + self.w140 * x[7] + self.w141 * x[8] + self.w142 * x[9] + self.w143 * x[10] + self.b13)\n",
      "# {}th neuron in the hidden layer\n",
      "h{} = sigmoid(self.w133 * x[0] + self.w134 * x[1] + self.w135 * x[2] + self.w136 * x[3] + self.w137 * x[4] + self.w138 * x[5] + self.w139 * x[6] + self.w140 * x[7] + self.w141 * x[8] + self.w142 * x[9] + self.w143 * x[10] + self.b13)\n",
      "# {}th neuron in the hidden layer\n",
      "h{} = sigmoid(self.w133 * x[0] + self.w134 * x[1] + self.w135 * x[2] + self.w136 * x[3] + self.w137 * x[4] + self.w138 * x[5] + self.w139 * x[6] + self.w140 * x[7] + self.w141 * x[8] + self.w142 * x[9] + self.w143 * x[10] + self.b13)\n",
      "# {}th neuron in the hidden layer\n",
      "h{} = sigmoid(self.w133 * x[0] + self.w134 * x[1] + self.w135 * x[2] + self.w136 * x[3] + self.w137 * x[4] + self.w138 * x[5] + self.w139 * x[6] + self.w140 * x[7] + self.w141 * x[8] + self.w142 * x[9] + self.w143 * x[10] + self.b13)\n",
      "# {}th neuron in the hidden layer\n",
      "h{} = sigmoid(self.w133 * x[0] + self.w134 * x[1] + self.w135 * x[2] + self.w136 * x[3] + self.w137 * x[4] + self.w138 * x[5] + self.w139 * x[6] + self.w140 * x[7] + self.w141 * x[8] + self.w142 * x[9] + self.w143 * x[10] + self.b13)\n",
      "# {}th neuron in the hidden layer\n",
      "h{} = sigmoid(self.w133 * x[0] + self.w134 * x[1] + self.w135 * x[2] + self.w136 * x[3] + self.w137 * x[4] + self.w138 * x[5] + self.w139 * x[6] + self.w140 * x[7] + self.w141 * x[8] + self.w142 * x[9] + self.w143 * x[10] + self.b13)\n",
      "# {}th neuron in the hidden layer\n",
      "h{} = sigmoid(self.w133 * x[0] + self.w134 * x[1] + self.w135 * x[2] + self.w136 * x[3] + self.w137 * x[4] + self.w138 * x[5] + self.w139 * x[6] + self.w140 * x[7] + self.w141 * x[8] + self.w142 * x[9] + self.w143 * x[10] + self.b13)\n",
      "# {}th neuron in the hidden layer\n",
      "h{} = sigmoid(self.w133 * x[0] + self.w134 * x[1] + self.w135 * x[2] + self.w136 * x[3] + self.w137 * x[4] + self.w138 * x[5] + self.w139 * x[6] + self.w140 * x[7] + self.w141 * x[8] + self.w142 * x[9] + self.w143 * x[10] + self.b13)\n",
      "# {}th neuron in the hidden layer\n",
      "h{} = sigmoid(self.w133 * x[0] + self.w134 * x[1] + self.w135 * x[2] + self.w136 * x[3] + self.w137 * x[4] + self.w138 * x[5] + self.w139 * x[6] + self.w140 * x[7] + self.w141 * x[8] + self.w142 * x[9] + self.w143 * x[10] + self.b13)\n",
      "# {}th neuron in the hidden layer\n",
      "h{} = sigmoid(self.w133 * x[0] + self.w134 * x[1] + self.w135 * x[2] + self.w136 * x[3] + self.w137 * x[4] + self.w138 * x[5] + self.w139 * x[6] + self.w140 * x[7] + self.w141 * x[8] + self.w142 * x[9] + self.w143 * x[10] + self.b13)\n",
      "# {}th neuron in the hidden layer\n",
      "h{} = sigmoid(self.w133 * x[0] + self.w134 * x[1] + self.w135 * x[2] + self.w136 * x[3] + self.w137 * x[4] + self.w138 * x[5] + self.w139 * x[6] + self.w140 * x[7] + self.w141 * x[8] + self.w142 * x[9] + self.w143 * x[10] + self.b13)\n",
      "# {}th neuron in the hidden layer\n",
      "h{} = sigmoid(self.w133 * x[0] + self.w134 * x[1] + self.w135 * x[2] + self.w136 * x[3] + self.w137 * x[4] + self.w138 * x[5] + self.w139 * x[6] + self.w140 * x[7] + self.w141 * x[8] + self.w142 * x[9] + self.w143 * x[10] + self.b13)\n",
      "# {}th neuron in the hidden layer\n",
      "h{} = sigmoid(self.w133 * x[0] + self.w134 * x[1] + self.w135 * x[2] + self.w136 * x[3] + self.w137 * x[4] + self.w138 * x[5] + self.w139 * x[6] + self.w140 * x[7] + self.w141 * x[8] + self.w142 * x[9] + self.w143 * x[10] + self.b13)\n",
      "# {}th neuron in the hidden layer\n",
      "h{} = sigmoid(self.w133 * x[0] + self.w134 * x[1] + self.w135 * x[2] + self.w136 * x[3] + self.w137 * x[4] + self.w138 * x[5] + self.w139 * x[6] + self.w140 * x[7] + self.w141 * x[8] + self.w142 * x[9] + self.w143 * x[10] + self.b13)\n",
      "# {}th neuron in the hidden layer\n",
      "h{} = sigmoid(self.w133 * x[0] + self.w134 * x[1] + self.w135 * x[2] + self.w136 * x[3] + self.w137 * x[4] + self.w138 * x[5] + self.w139 * x[6] + self.w140 * x[7] + self.w141 * x[8] + self.w142 * x[9] + self.w143 * x[10] + self.b13)\n",
      "# {}th neuron in the hidden layer\n",
      "h{} = sigmoid(self.w133 * x[0] + self.w134 * x[1] + self.w135 * x[2] + self.w136 * x[3] + self.w137 * x[4] + self.w138 * x[5] + self.w139 * x[6] + self.w140 * x[7] + self.w141 * x[8] + self.w142 * x[9] + self.w143 * x[10] + self.b13)\n",
      "# {}th neuron in the hidden layer\n",
      "h{} = sigmoid(self.w133 * x[0] + self.w134 * x[1] + self.w135 * x[2] + self.w136 * x[3] + self.w137 * x[4] + self.w138 * x[5] + self.w139 * x[6] + self.w140 * x[7] + self.w141 * x[8] + self.w142 * x[9] + self.w143 * x[10] + self.b13)\n",
      "# {}th neuron in the hidden layer\n",
      "h{} = sigmoid(self.w133 * x[0] + self.w134 * x[1] + self.w135 * x[2] + self.w136 * x[3] + self.w137 * x[4] + self.w138 * x[5] + self.w139 * x[6] + self.w140 * x[7] + self.w141 * x[8] + self.w142 * x[9] + self.w143 * x[10] + self.b13)\n",
      "# {}th neuron in the hidden layer\n",
      "h{} = sigmoid(self.w133 * x[0] + self.w134 * x[1] + self.w135 * x[2] + self.w136 * x[3] + self.w137 * x[4] + self.w138 * x[5] + self.w139 * x[6] + self.w140 * x[7] + self.w141 * x[8] + self.w142 * x[9] + self.w143 * x[10] + self.b13)\n",
      "# {}th neuron in the hidden layer\n",
      "h{} = sigmoid(self.w133 * x[0] + self.w134 * x[1] + self.w135 * x[2] + self.w136 * x[3] + self.w137 * x[4] + self.w138 * x[5] + self.w139 * x[6] + self.w140 * x[7] + self.w141 * x[8] + self.w142 * x[9] + self.w143 * x[10] + self.b13)\n",
      "# {}th neuron in the hidden layer\n",
      "h{} = sigmoid(self.w133 * x[0] + self.w134 * x[1] + self.w135 * x[2] + self.w136 * x[3] + self.w137 * x[4] + self.w138 * x[5] + self.w139 * x[6] + self.w140 * x[7] + self.w141 * x[8] + self.w142 * x[9] + self.w143 * x[10] + self.b13)\n",
      "# {}th neuron in the hidden layer\n",
      "h{} = sigmoid(self.w133 * x[0] + self.w134 * x[1] + self.w135 * x[2] + self.w136 * x[3] + self.w137 * x[4] + self.w138 * x[5] + self.w139 * x[6] + self.w140 * x[7] + self.w141 * x[8] + self.w142 * x[9] + self.w143 * x[10] + self.b13)\n",
      "# {}th neuron in the hidden layer\n",
      "h{} = sigmoid(self.w133 * x[0] + self.w134 * x[1] + self.w135 * x[2] + self.w136 * x[3] + self.w137 * x[4] + self.w138 * x[5] + self.w139 * x[6] + self.w140 * x[7] + self.w141 * x[8] + self.w142 * x[9] + self.w143 * x[10] + self.b13)\n",
      "# {}th neuron in the hidden layer\n",
      "h{} = sigmoid(self.w133 * x[0] + self.w134 * x[1] + self.w135 * x[2] + self.w136 * x[3] + self.w137 * x[4] + self.w138 * x[5] + self.w139 * x[6] + self.w140 * x[7] + self.w141 * x[8] + self.w142 * x[9] + self.w143 * x[10] + self.b13)\n",
      "# {}th neuron in the hidden layer\n",
      "h{} = sigmoid(self.w133 * x[0] + self.w134 * x[1] + self.w135 * x[2] + self.w136 * x[3] + self.w137 * x[4] + self.w138 * x[5] + self.w139 * x[6] + self.w140 * x[7] + self.w141 * x[8] + self.w142 * x[9] + self.w143 * x[10] + self.b13)\n",
      "# {}th neuron in the hidden layer\n",
      "h{} = sigmoid(self.w133 * x[0] + self.w134 * x[1] + self.w135 * x[2] + self.w136 * x[3] + self.w137 * x[4] + self.w138 * x[5] + self.w139 * x[6] + self.w140 * x[7] + self.w141 * x[8] + self.w142 * x[9] + self.w143 * x[10] + self.b13)\n",
      "# {}th neuron in the hidden layer\n",
      "h{} = sigmoid(self.w133 * x[0] + self.w134 * x[1] + self.w135 * x[2] + self.w136 * x[3] + self.w137 * x[4] + self.w138 * x[5] + self.w139 * x[6] + self.w140 * x[7] + self.w141 * x[8] + self.w142 * x[9] + self.w143 * x[10] + self.b13)\n",
      "# {}th neuron in the hidden layer\n",
      "h{} = sigmoid(self.w133 * x[0] + self.w134 * x[1] + self.w135 * x[2] + self.w136 * x[3] + self.w137 * x[4] + self.w138 * x[5] + self.w139 * x[6] + self.w140 * x[7] + self.w141 * x[8] + self.w142 * x[9] + self.w143 * x[10] + self.b13)\n",
      "# {}th neuron in the hidden layer\n",
      "h{} = sigmoid(self.w133 * x[0] + self.w134 * x[1] + self.w135 * x[2] + self.w136 * x[3] + self.w137 * x[4] + self.w138 * x[5] + self.w139 * x[6] + self.w140 * x[7] + self.w141 * x[8] + self.w142 * x[9] + self.w143 * x[10] + self.b13)\n",
      "# {}th neuron in the hidden layer\n",
      "h{} = sigmoid(self.w133 * x[0] + self.w134 * x[1] + self.w135 * x[2] + self.w136 * x[3] + self.w137 * x[4] + self.w138 * x[5] + self.w139 * x[6] + self.w140 * x[7] + self.w141 * x[8] + self.w142 * x[9] + self.w143 * x[10] + self.b13)\n",
      "# {}th neuron in the hidden layer\n",
      "h{} = sigmoid(self.w133 * x[0] + self.w134 * x[1] + self.w135 * x[2] + self.w136 * x[3] + self.w137 * x[4] + self.w138 * x[5] + self.w139 * x[6] + self.w140 * x[7] + self.w141 * x[8] + self.w142 * x[9] + self.w143 * x[10] + self.b13)\n",
      "# {}th neuron in the hidden layer\n",
      "h{} = sigmoid(self.w133 * x[0] + self.w134 * x[1] + self.w135 * x[2] + self.w136 * x[3] + self.w137 * x[4] + self.w138 * x[5] + self.w139 * x[6] + self.w140 * x[7] + self.w141 * x[8] + self.w142 * x[9] + self.w143 * x[10] + self.b13)\n",
      "# {}th neuron in the hidden layer\n",
      "h{} = sigmoid(self.w133 * x[0] + self.w134 * x[1] + self.w135 * x[2] + self.w136 * x[3] + self.w137 * x[4] + self.w138 * x[5] + self.w139 * x[6] + self.w140 * x[7] + self.w141 * x[8] + self.w142 * x[9] + self.w143 * x[10] + self.b13)\n",
      "# {}th neuron in the hidden layer\n",
      "h{} = sigmoid(self.w133 * x[0] + self.w134 * x[1] + self.w135 * x[2] + self.w136 * x[3] + self.w137 * x[4] + self.w138 * x[5] + self.w139 * x[6] + self.w140 * x[7] + self.w141 * x[8] + self.w142 * x[9] + self.w143 * x[10] + self.b13)\n",
      "# {}th neuron in the hidden layer\n",
      "h{} = sigmoid(self.w133 * x[0] + self.w134 * x[1] + self.w135 * x[2] + self.w136 * x[3] + self.w137 * x[4] + self.w138 * x[5] + self.w139 * x[6] + self.w140 * x[7] + self.w141 * x[8] + self.w142 * x[9] + self.w143 * x[10] + self.b13)\n",
      "# {}th neuron in the hidden layer\n",
      "h{} = sigmoid(self.w133 * x[0] + self.w134 * x[1] + self.w135 * x[2] + self.w136 * x[3] + self.w137 * x[4] + self.w138 * x[5] + self.w139 * x[6] + self.w140 * x[7] + self.w141 * x[8] + self.w142 * x[9] + self.w143 * x[10] + self.b13)\n",
      "# {}th neuron in the hidden layer\n",
      "h{} = sigmoid(self.w133 * x[0] + self.w134 * x[1] + self.w135 * x[2] + self.w136 * x[3] + self.w137 * x[4] + self.w138 * x[5] + self.w139 * x[6] + self.w140 * x[7] + self.w141 * x[8] + self.w142 * x[9] + self.w143 * x[10] + self.b13)\n"
     ]
    }
   ],
   "source": [
    "for i in range (14,121):\n",
    "    print(\"# {}th neuron in the hidden layer\\nh{} = sigmoid(self.w133 * x[0] + self.w134 * x[1] + self.w135 * x[2] + self.w136 * x[3] + self.w137 * x[4] + self.w138 * x[5] + self.w139 * x[6] + self.w140 * x[7] + self.w141 * x[8] + self.w142 * x[9] + self.w143 * x[10] + self.b13)\")"
   ],
   "metadata": {
    "collapsed": false
   }
  }
 ],
 "metadata": {
  "kernelspec": {
   "display_name": "Python 3",
   "language": "python",
   "name": "python3"
  },
  "language_info": {
   "codemirror_mode": {
    "name": "ipython",
    "version": 2
   },
   "file_extension": ".py",
   "mimetype": "text/x-python",
   "name": "python",
   "nbconvert_exporter": "python",
   "pygments_lexer": "ipython2",
   "version": "2.7.6"
  }
 },
 "nbformat": 4,
 "nbformat_minor": 0
}
